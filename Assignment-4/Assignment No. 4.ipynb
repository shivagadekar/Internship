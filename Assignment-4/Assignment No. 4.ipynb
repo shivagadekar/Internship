{
 "cells": [
  {
   "cell_type": "code",
   "execution_count": 1,
   "id": "ab4ab3c4",
   "metadata": {},
   "outputs": [],
   "source": [
    "from bs4 import BeautifulSoup\n",
    "import selenium\n",
    "from selenium import webdriver\n",
    "import requests\n",
    "import time\n",
    "import pandas as pd\n",
    "from selenium.webdriver.common.by import By\n",
    "from selenium.common.exceptions import StaleElementReferenceException, NoSuchElementException,ElementNotInteractableException"
   ]
  },
  {
   "cell_type": "markdown",
   "id": "374f7e70",
   "metadata": {},
   "source": [
    "### 1. Scrape the details of most viewed videos on YouTube from Wikipedia.\n",
    "Url = https://en.wikipedia.org/wiki/List_of_most-viewed_YouTube_videos\n",
    "You need to find following details:\n",
    "   - Rank\n",
    "   - Name\n",
    "   - Artist\n",
    "   - Upload date\n",
    "   - Views"
   ]
  },
  {
   "cell_type": "code",
   "execution_count": 5,
   "id": "6d2e407f",
   "metadata": {},
   "outputs": [
    {
     "name": "stderr",
     "output_type": "stream",
     "text": [
      "C:\\Users\\shiva\\AppData\\Local\\Temp\\ipykernel_12000\\2355191442.py:2: DeprecationWarning: executable_path has been deprecated, please pass in a Service object\n",
      "  driver=webdriver.Chrome(r'C:/chrome_driver/chromedriver.exe')\n"
     ]
    }
   ],
   "source": [
    "url=\"https://en.wikipedia.org/wiki/List_of_most-viewed_YouTube_videos\"\n",
    "driver=webdriver.Chrome(r'C:/chrome_driver/chromedriver.exe')\n",
    "driver.get(url)"
   ]
  },
  {
   "cell_type": "code",
   "execution_count": 8,
   "id": "9855bf32",
   "metadata": {},
   "outputs": [
    {
     "name": "stdout",
     "output_type": "stream",
     "text": [
      "30\n"
     ]
    }
   ],
   "source": [
    "name=[]\n",
    "try:\n",
    "    names=driver.find_elements(By.XPATH, \"//table[@class='wikitable sortable jquery-tablesorter'][1]/tbody/tr/td[2]\")\n",
    "    for i in names:\n",
    "        name.append(i.text)\n",
    "except NoSuchElementException:\n",
    "    name.append('No details available')\n",
    "except StaleElementReferenceException:\n",
    "    name.append('No details available')\n",
    "print(len(name))"
   ]
  },
  {
   "cell_type": "code",
   "execution_count": 9,
   "id": "970322c9",
   "metadata": {},
   "outputs": [
    {
     "name": "stdout",
     "output_type": "stream",
     "text": [
      "30\n"
     ]
    }
   ],
   "source": [
    "rank=[]\n",
    "try:\n",
    "    ranks=driver.find_elements(By.XPATH, \"//table[@class='wikitable sortable jquery-tablesorter'][1]/tbody/tr/td[1]\")\n",
    "    for i in ranks:\n",
    "        rank.append(i.text)\n",
    "except NoSuchElementException:\n",
    "    rank.append('No details available')\n",
    "except StaleElementReferenceException:\n",
    "    rank.append('No details available')\n",
    "print(len(rank))"
   ]
  },
  {
   "cell_type": "code",
   "execution_count": 10,
   "id": "a43510e8",
   "metadata": {},
   "outputs": [
    {
     "name": "stdout",
     "output_type": "stream",
     "text": [
      "30\n"
     ]
    }
   ],
   "source": [
    "artist=[]\n",
    "try:\n",
    "    artists=driver.find_elements(By.XPATH, \"//table[@class='wikitable sortable jquery-tablesorter'][1]/tbody/tr/td[3]\")\n",
    "    for i in artists:\n",
    "        artist.append(i.text)\n",
    "except NoSuchElementException:\n",
    "    artist.append('No details available')\n",
    "except StaleElementReferenceException:\n",
    "    artist.append('No details available')\n",
    "print(len(artist))"
   ]
  },
  {
   "cell_type": "code",
   "execution_count": 11,
   "id": "94537b94",
   "metadata": {},
   "outputs": [
    {
     "name": "stdout",
     "output_type": "stream",
     "text": [
      "30\n"
     ]
    }
   ],
   "source": [
    "views=[]\n",
    "try:\n",
    "    views_list=driver.find_elements(By.XPATH, \"//table[@class='wikitable sortable jquery-tablesorter'][1]/tbody/tr/td[4]\")\n",
    "    for i in views_list:\n",
    "        views.append(i.text)\n",
    "except NoSuchElementException:\n",
    "    views.append('No details available')\n",
    "except StaleElementReferenceException:\n",
    "    views.append('No details available')\n",
    "print(len(views))"
   ]
  },
  {
   "cell_type": "code",
   "execution_count": 12,
   "id": "f49025be",
   "metadata": {},
   "outputs": [
    {
     "name": "stdout",
     "output_type": "stream",
     "text": [
      "30\n"
     ]
    }
   ],
   "source": [
    "upload_date=[]\n",
    "try:\n",
    "    upload_date_list=driver.find_elements(By.XPATH, \"//table[@class='wikitable sortable jquery-tablesorter'][1]/tbody/tr/td[5]\")\n",
    "    for i in upload_date_list:\n",
    "        upload_date.append(i.text)\n",
    "except NoSuchElementException:\n",
    "    upload_date.append('No details available')\n",
    "except StaleElementReferenceException:\n",
    "    upload_date.append('No details available')\n",
    "print(len(upload_date))"
   ]
  },
  {
   "cell_type": "code",
   "execution_count": 14,
   "id": "4a96b580",
   "metadata": {},
   "outputs": [
    {
     "data": {
      "text/html": [
       "<div>\n",
       "<style scoped>\n",
       "    .dataframe tbody tr th:only-of-type {\n",
       "        vertical-align: middle;\n",
       "    }\n",
       "\n",
       "    .dataframe tbody tr th {\n",
       "        vertical-align: top;\n",
       "    }\n",
       "\n",
       "    .dataframe thead th {\n",
       "        text-align: right;\n",
       "    }\n",
       "</style>\n",
       "<table border=\"1\" class=\"dataframe\">\n",
       "  <thead>\n",
       "    <tr style=\"text-align: right;\">\n",
       "      <th></th>\n",
       "      <th>Rank</th>\n",
       "      <th>Name</th>\n",
       "      <th>Uploader/artist</th>\n",
       "      <th>Date of upload</th>\n",
       "      <th>Views(in billion)</th>\n",
       "    </tr>\n",
       "  </thead>\n",
       "  <tbody>\n",
       "    <tr>\n",
       "      <th>0</th>\n",
       "      <td>1.</td>\n",
       "      <td>\"Baby Shark Dance\"[4]</td>\n",
       "      <td>Pinkfong Baby Shark - Kids' Songs &amp; Stories</td>\n",
       "      <td>June 17, 2016</td>\n",
       "      <td>11.62</td>\n",
       "    </tr>\n",
       "    <tr>\n",
       "      <th>1</th>\n",
       "      <td>2.</td>\n",
       "      <td>\"Despacito\"[7]</td>\n",
       "      <td>Luis Fonsi</td>\n",
       "      <td>January 12, 2017</td>\n",
       "      <td>7.99</td>\n",
       "    </tr>\n",
       "    <tr>\n",
       "      <th>2</th>\n",
       "      <td>3.</td>\n",
       "      <td>\"Johny Johny Yes Papa\"[13]</td>\n",
       "      <td>LooLoo Kids</td>\n",
       "      <td>October 8, 2016</td>\n",
       "      <td>6.51</td>\n",
       "    </tr>\n",
       "    <tr>\n",
       "      <th>3</th>\n",
       "      <td>4.</td>\n",
       "      <td>\"Shape of You\"[14]</td>\n",
       "      <td>Ed Sheeran</td>\n",
       "      <td>January 30, 2017</td>\n",
       "      <td>5.84</td>\n",
       "    </tr>\n",
       "    <tr>\n",
       "      <th>4</th>\n",
       "      <td>5.</td>\n",
       "      <td>\"Bath Song\"[16]</td>\n",
       "      <td>Cocomelon – Nursery Rhymes</td>\n",
       "      <td>May 2, 2018</td>\n",
       "      <td>5.69</td>\n",
       "    </tr>\n",
       "    <tr>\n",
       "      <th>5</th>\n",
       "      <td>6.</td>\n",
       "      <td>\"See You Again\"[17]</td>\n",
       "      <td>Wiz Khalifa</td>\n",
       "      <td>April 6, 2015</td>\n",
       "      <td>5.68</td>\n",
       "    </tr>\n",
       "    <tr>\n",
       "      <th>6</th>\n",
       "      <td>7.</td>\n",
       "      <td>\"Phonics Song with Two Words\"[22]</td>\n",
       "      <td>ChuChu TV</td>\n",
       "      <td>March 6, 2014</td>\n",
       "      <td>4.96</td>\n",
       "    </tr>\n",
       "    <tr>\n",
       "      <th>7</th>\n",
       "      <td>8.</td>\n",
       "      <td>\"Uptown Funk\"[23]</td>\n",
       "      <td>Mark Ronson</td>\n",
       "      <td>November 19, 2014</td>\n",
       "      <td>4.73</td>\n",
       "    </tr>\n",
       "    <tr>\n",
       "      <th>8</th>\n",
       "      <td>9.</td>\n",
       "      <td>\"Learning Colors – Colorful Eggs on a Farm\"[24]</td>\n",
       "      <td>Miroshka TV</td>\n",
       "      <td>February 27, 2018</td>\n",
       "      <td>4.69</td>\n",
       "    </tr>\n",
       "    <tr>\n",
       "      <th>9</th>\n",
       "      <td>10.</td>\n",
       "      <td>\"Gangnam Style\"[25]</td>\n",
       "      <td>Psy</td>\n",
       "      <td>July 15, 2012</td>\n",
       "      <td>4.58</td>\n",
       "    </tr>\n",
       "    <tr>\n",
       "      <th>10</th>\n",
       "      <td>11.</td>\n",
       "      <td>\"Masha and the Bear – Recipe for Disaster\"[30]</td>\n",
       "      <td>Get Movies</td>\n",
       "      <td>January 31, 2012</td>\n",
       "      <td>4.51</td>\n",
       "    </tr>\n",
       "    <tr>\n",
       "      <th>11</th>\n",
       "      <td>12.</td>\n",
       "      <td>\"Wheels on the Bus\"[31]</td>\n",
       "      <td>Cocomelon – Nursery Rhymes</td>\n",
       "      <td>May 24, 2018</td>\n",
       "      <td>4.50</td>\n",
       "    </tr>\n",
       "    <tr>\n",
       "      <th>12</th>\n",
       "      <td>13.</td>\n",
       "      <td>\"Dame Tu Cosita\"[32]</td>\n",
       "      <td>El Chombo</td>\n",
       "      <td>April 5, 2018</td>\n",
       "      <td>4.11</td>\n",
       "    </tr>\n",
       "    <tr>\n",
       "      <th>13</th>\n",
       "      <td>14.</td>\n",
       "      <td>\"Sugar\"[33]</td>\n",
       "      <td>Maroon 5</td>\n",
       "      <td>January 14, 2015</td>\n",
       "      <td>3.77</td>\n",
       "    </tr>\n",
       "    <tr>\n",
       "      <th>14</th>\n",
       "      <td>15.</td>\n",
       "      <td>\"Roar\"[34]</td>\n",
       "      <td>Katy Perry</td>\n",
       "      <td>September 5, 2013</td>\n",
       "      <td>3.67</td>\n",
       "    </tr>\n",
       "    <tr>\n",
       "      <th>15</th>\n",
       "      <td>16.</td>\n",
       "      <td>\"Counting Stars\"[35]</td>\n",
       "      <td>OneRepublic</td>\n",
       "      <td>May 31, 2013</td>\n",
       "      <td>3.67</td>\n",
       "    </tr>\n",
       "    <tr>\n",
       "      <th>16</th>\n",
       "      <td>17.</td>\n",
       "      <td>\"Sorry\"[36]</td>\n",
       "      <td>Justin Bieber</td>\n",
       "      <td>October 22, 2015</td>\n",
       "      <td>3.60</td>\n",
       "    </tr>\n",
       "    <tr>\n",
       "      <th>17</th>\n",
       "      <td>18.</td>\n",
       "      <td>\"Axel F\"[37]</td>\n",
       "      <td>Crazy Frog</td>\n",
       "      <td>June 16, 2009</td>\n",
       "      <td>3.56</td>\n",
       "    </tr>\n",
       "    <tr>\n",
       "      <th>18</th>\n",
       "      <td>18.</td>\n",
       "      <td>\"Thinking Out Loud\"[38]</td>\n",
       "      <td>Ed Sheeran</td>\n",
       "      <td>October 7, 2014</td>\n",
       "      <td>3.51</td>\n",
       "    </tr>\n",
       "    <tr>\n",
       "      <th>19</th>\n",
       "      <td>20.</td>\n",
       "      <td>\"Baa Baa Black Sheep\"[39]</td>\n",
       "      <td>Cocomelon – Nursery Rhymes</td>\n",
       "      <td>June 25, 2018</td>\n",
       "      <td>3.41</td>\n",
       "    </tr>\n",
       "    <tr>\n",
       "      <th>20</th>\n",
       "      <td>21.</td>\n",
       "      <td>\"Dark Horse\"[40]</td>\n",
       "      <td>Katy Perry</td>\n",
       "      <td>February 20, 2014</td>\n",
       "      <td>3.37</td>\n",
       "    </tr>\n",
       "    <tr>\n",
       "      <th>21</th>\n",
       "      <td>22.</td>\n",
       "      <td>\"Faded\"[41]</td>\n",
       "      <td>Alan Walker</td>\n",
       "      <td>December 3, 2015</td>\n",
       "      <td>3.36</td>\n",
       "    </tr>\n",
       "    <tr>\n",
       "      <th>22</th>\n",
       "      <td>23.</td>\n",
       "      <td>\"Girls Like You\"[42]</td>\n",
       "      <td>Maroon 5</td>\n",
       "      <td>May 31, 2018</td>\n",
       "      <td>3.34</td>\n",
       "    </tr>\n",
       "    <tr>\n",
       "      <th>23</th>\n",
       "      <td>24.</td>\n",
       "      <td>\"Let Her Go\"[43]</td>\n",
       "      <td>Passenger</td>\n",
       "      <td>July 25, 2012</td>\n",
       "      <td>3.32</td>\n",
       "    </tr>\n",
       "    <tr>\n",
       "      <th>24</th>\n",
       "      <td>25.</td>\n",
       "      <td>\"Bailando\"[44]</td>\n",
       "      <td>Enrique Iglesias</td>\n",
       "      <td>April 11, 2014</td>\n",
       "      <td>3.29</td>\n",
       "    </tr>\n",
       "    <tr>\n",
       "      <th>25</th>\n",
       "      <td>26.</td>\n",
       "      <td>\"Perfect\"[45]</td>\n",
       "      <td>Ed Sheeran</td>\n",
       "      <td>November 9, 2017</td>\n",
       "      <td>3.28</td>\n",
       "    </tr>\n",
       "    <tr>\n",
       "      <th>26</th>\n",
       "      <td>27.</td>\n",
       "      <td>\"Lean On\"[46]</td>\n",
       "      <td>Major Lazer</td>\n",
       "      <td>March 22, 2015</td>\n",
       "      <td>3.28</td>\n",
       "    </tr>\n",
       "    <tr>\n",
       "      <th>27</th>\n",
       "      <td>28.</td>\n",
       "      <td>\"Waka Waka (This Time for Africa)\"[47]</td>\n",
       "      <td>Shakira</td>\n",
       "      <td>June 4, 2010</td>\n",
       "      <td>3.27</td>\n",
       "    </tr>\n",
       "    <tr>\n",
       "      <th>28</th>\n",
       "      <td>29.</td>\n",
       "      <td>\"Shake It Off\"[48]</td>\n",
       "      <td>Taylor Swift</td>\n",
       "      <td>August 18, 2014</td>\n",
       "      <td>3.22</td>\n",
       "    </tr>\n",
       "    <tr>\n",
       "      <th>29</th>\n",
       "      <td>30.</td>\n",
       "      <td>\"Humpty the train on a fruits ride\"[49]</td>\n",
       "      <td>Kiddiestv Hindi – Nursery Rhymes &amp; Kids Songs</td>\n",
       "      <td>January 26, 2018</td>\n",
       "      <td>3.19</td>\n",
       "    </tr>\n",
       "  </tbody>\n",
       "</table>\n",
       "</div>"
      ],
      "text/plain": [
       "   Rank                                             Name  \\\n",
       "0    1.                            \"Baby Shark Dance\"[4]   \n",
       "1    2.                                   \"Despacito\"[7]   \n",
       "2    3.                       \"Johny Johny Yes Papa\"[13]   \n",
       "3    4.                               \"Shape of You\"[14]   \n",
       "4    5.                                  \"Bath Song\"[16]   \n",
       "5    6.                              \"See You Again\"[17]   \n",
       "6    7.                \"Phonics Song with Two Words\"[22]   \n",
       "7    8.                                \"Uptown Funk\"[23]   \n",
       "8    9.  \"Learning Colors – Colorful Eggs on a Farm\"[24]   \n",
       "9   10.                              \"Gangnam Style\"[25]   \n",
       "10  11.   \"Masha and the Bear – Recipe for Disaster\"[30]   \n",
       "11  12.                          \"Wheels on the Bus\"[31]   \n",
       "12  13.                             \"Dame Tu Cosita\"[32]   \n",
       "13  14.                                      \"Sugar\"[33]   \n",
       "14  15.                                       \"Roar\"[34]   \n",
       "15  16.                             \"Counting Stars\"[35]   \n",
       "16  17.                                      \"Sorry\"[36]   \n",
       "17  18.                                     \"Axel F\"[37]   \n",
       "18  18.                          \"Thinking Out Loud\"[38]   \n",
       "19  20.                        \"Baa Baa Black Sheep\"[39]   \n",
       "20  21.                                 \"Dark Horse\"[40]   \n",
       "21  22.                                      \"Faded\"[41]   \n",
       "22  23.                             \"Girls Like You\"[42]   \n",
       "23  24.                                 \"Let Her Go\"[43]   \n",
       "24  25.                                   \"Bailando\"[44]   \n",
       "25  26.                                    \"Perfect\"[45]   \n",
       "26  27.                                    \"Lean On\"[46]   \n",
       "27  28.           \"Waka Waka (This Time for Africa)\"[47]   \n",
       "28  29.                               \"Shake It Off\"[48]   \n",
       "29  30.          \"Humpty the train on a fruits ride\"[49]   \n",
       "\n",
       "                                  Uploader/artist     Date of upload  \\\n",
       "0     Pinkfong Baby Shark - Kids' Songs & Stories      June 17, 2016   \n",
       "1                                      Luis Fonsi   January 12, 2017   \n",
       "2                                     LooLoo Kids    October 8, 2016   \n",
       "3                                      Ed Sheeran   January 30, 2017   \n",
       "4                      Cocomelon – Nursery Rhymes        May 2, 2018   \n",
       "5                                     Wiz Khalifa      April 6, 2015   \n",
       "6                                       ChuChu TV      March 6, 2014   \n",
       "7                                     Mark Ronson  November 19, 2014   \n",
       "8                                     Miroshka TV  February 27, 2018   \n",
       "9                                             Psy      July 15, 2012   \n",
       "10                                     Get Movies   January 31, 2012   \n",
       "11                     Cocomelon – Nursery Rhymes       May 24, 2018   \n",
       "12                                      El Chombo      April 5, 2018   \n",
       "13                                       Maroon 5   January 14, 2015   \n",
       "14                                     Katy Perry  September 5, 2013   \n",
       "15                                    OneRepublic       May 31, 2013   \n",
       "16                                  Justin Bieber   October 22, 2015   \n",
       "17                                     Crazy Frog      June 16, 2009   \n",
       "18                                     Ed Sheeran    October 7, 2014   \n",
       "19                     Cocomelon – Nursery Rhymes      June 25, 2018   \n",
       "20                                     Katy Perry  February 20, 2014   \n",
       "21                                    Alan Walker   December 3, 2015   \n",
       "22                                       Maroon 5       May 31, 2018   \n",
       "23                                      Passenger      July 25, 2012   \n",
       "24                               Enrique Iglesias     April 11, 2014   \n",
       "25                                     Ed Sheeran   November 9, 2017   \n",
       "26                                    Major Lazer     March 22, 2015   \n",
       "27                                        Shakira       June 4, 2010   \n",
       "28                                   Taylor Swift    August 18, 2014   \n",
       "29  Kiddiestv Hindi – Nursery Rhymes & Kids Songs   January 26, 2018   \n",
       "\n",
       "   Views(in billion)  \n",
       "0              11.62  \n",
       "1               7.99  \n",
       "2               6.51  \n",
       "3               5.84  \n",
       "4               5.69  \n",
       "5               5.68  \n",
       "6               4.96  \n",
       "7               4.73  \n",
       "8               4.69  \n",
       "9               4.58  \n",
       "10              4.51  \n",
       "11              4.50  \n",
       "12              4.11  \n",
       "13              3.77  \n",
       "14              3.67  \n",
       "15              3.67  \n",
       "16              3.60  \n",
       "17              3.56  \n",
       "18              3.51  \n",
       "19              3.41  \n",
       "20              3.37  \n",
       "21              3.36  \n",
       "22              3.34  \n",
       "23              3.32  \n",
       "24              3.29  \n",
       "25              3.28  \n",
       "26              3.28  \n",
       "27              3.27  \n",
       "28              3.22  \n",
       "29              3.19  "
      ]
     },
     "execution_count": 14,
     "metadata": {},
     "output_type": "execute_result"
    }
   ],
   "source": [
    "df=pd.DataFrame({\"Rank\":rank,\n",
    "                 \"Name\":name,\n",
    "                \"Uploader/artist\":artist,\n",
    "                \"Date of upload\":upload_date,\n",
    "                \"Views(in billion)\":views})\n",
    "\n",
    "df.to_csv(\"top_30_videos\",index=False)\n",
    "df"
   ]
  },
  {
   "cell_type": "markdown",
   "id": "9c660d70",
   "metadata": {},
   "source": [
    "### 2. Scrape the details team India’s international fixtures from bcci.tv. Url = https://www.bcci.tv/.\n",
    "You need to find following details:\n",
    "   - Match title (I.e. 1st ODI)\n",
    "   - Series\n",
    "   - Place\n",
    "   - Date\n",
    "   - Time\n",
    "- From bcci.tv home page you have reach to the international fixture page through code."
   ]
  },
  {
   "cell_type": "code",
   "execution_count": 18,
   "id": "1cab39ef",
   "metadata": {},
   "outputs": [
    {
     "name": "stderr",
     "output_type": "stream",
     "text": [
      "C:\\Users\\shiva\\AppData\\Local\\Temp\\ipykernel_12000\\3099463719.py:2: DeprecationWarning: executable_path has been deprecated, please pass in a Service object\n",
      "  driver=webdriver.Chrome(r'C:/chrome_driver/chromedriver.exe')\n"
     ]
    }
   ],
   "source": [
    "url=\"https://www.bcci.tv/\"\n",
    "driver=webdriver.Chrome(r'C:/chrome_driver/chromedriver.exe')\n",
    "driver.get(url)"
   ]
  },
  {
   "cell_type": "code",
   "execution_count": 21,
   "id": "8cf199f1",
   "metadata": {},
   "outputs": [],
   "source": [
    "fixtures=driver.find_element(By.XPATH, '//a[@class=\"moreMatchesLink\"]')\n",
    "try:\n",
    "    fixtures.click()\n",
    "except ElementNotInteractableException:\n",
    "    driver.get(fixtures.get_attribute('href'))"
   ]
  },
  {
   "cell_type": "code",
   "execution_count": 27,
   "id": "f1797df8",
   "metadata": {},
   "outputs": [],
   "source": [
    "match_title=[]\n",
    "match_page=driver.find_elements(By.XPATH, '//h5[@class=\"fix-text\"]')\n",
    "for i in match_page:\n",
    "    match_title.append(i.text)"
   ]
  },
  {
   "cell_type": "code",
   "execution_count": 36,
   "id": "f293171a",
   "metadata": {
    "scrolled": true
   },
   "outputs": [],
   "source": [
    "place=[]\n",
    "place_page=driver.find_elements(By.XPATH, '//div[@class=\"fix-place ng-binding ng-scope\"]')\n",
    "for i in place_page:\n",
    "    place.append(i.text)"
   ]
  },
  {
   "cell_type": "code",
   "execution_count": 40,
   "id": "71288e8a",
   "metadata": {},
   "outputs": [],
   "source": [
    "date=[]\n",
    "date_page=driver.find_elements(By.XPATH, '//div[@class=\"match-card-left match-schedule\"]')\n",
    "for i in date_page:\n",
    "    date.append(i.text)"
   ]
  },
  {
   "cell_type": "code",
   "execution_count": 42,
   "id": "f74bd3e2",
   "metadata": {},
   "outputs": [],
   "source": [
    "time=[]\n",
    "time_page=driver.find_elements(By.XPATH, '//div[@class=\"match-card-right match-schedule \"]')\n",
    "for i in time_page:\n",
    "    time.append(i.text)"
   ]
  },
  {
   "cell_type": "code",
   "execution_count": 43,
   "id": "8b6245cd",
   "metadata": {},
   "outputs": [
    {
     "data": {
      "text/plain": [
       "['1:30 PM IST',\n",
       " '12:00 PM IST',\n",
       " '12:00 PM IST',\n",
       " '12:00 PM IST',\n",
       " '7:00 AM IST',\n",
       " '7:00 AM IST',\n",
       " '7:00 AM IST',\n",
       " '12:30 PM IST']"
      ]
     },
     "execution_count": 43,
     "metadata": {},
     "output_type": "execute_result"
    }
   ],
   "source": [
    "time"
   ]
  },
  {
   "cell_type": "markdown",
   "id": "d0fd2870",
   "metadata": {},
   "source": [
    "### 3. Scrape the details of selenium exception from guru99.com. Url = https://www.guru99.com/\n",
    "You need to find following details:\n",
    "A) Name\n",
    "B) Description\n",
    "Note: - From guru99 home page you have to reach to selenium exception handling page through code."
   ]
  },
  {
   "cell_type": "code",
   "execution_count": 2,
   "id": "ee5fde12",
   "metadata": {},
   "outputs": [
    {
     "name": "stderr",
     "output_type": "stream",
     "text": [
      "C:\\Users\\shiva\\AppData\\Local\\Temp\\ipykernel_14532\\4177005740.py:2: DeprecationWarning: executable_path has been deprecated, please pass in a Service object\n",
      "  driver=webdriver.Chrome(r'C:/chrome_driver/chromedriver.exe')\n"
     ]
    }
   ],
   "source": [
    "url=\"https://www.guru99.com/\"\n",
    "driver=webdriver.Chrome(r'C:/chrome_driver/chromedriver.exe')\n",
    "driver.get(url)"
   ]
  },
  {
   "cell_type": "code",
   "execution_count": 3,
   "id": "111e7a67",
   "metadata": {},
   "outputs": [],
   "source": [
    "first_click = driver.find_element(By.XPATH, '//*[@id=\"kt-info-box_eaeb48-11\"]/a/div[1]/div/div/div/span')\n",
    "first_click.click()"
   ]
  },
  {
   "cell_type": "code",
   "execution_count": 4,
   "id": "e27de297",
   "metadata": {},
   "outputs": [],
   "source": [
    "second_click = driver.find_element(By.XPATH, '//*[@id=\"post-193\"]/div/div/table[5]/tbody/tr[34]/td[1]/a')\n",
    "second_click.click()"
   ]
  },
  {
   "cell_type": "code",
   "execution_count": 9,
   "id": "397c3d2e",
   "metadata": {},
   "outputs": [
    {
     "data": {
      "text/plain": [
       "\"exceptions = []\\nexcep = driver.find_elements(By.TAG_NAME, 'strong')\\nfor i in excep:\\n    exceptions.append(i.text)\""
      ]
     },
     "execution_count": 9,
     "metadata": {},
     "output_type": "execute_result"
    }
   ],
   "source": [
    "'''exceptions = []\n",
    "excep = driver.find_elements(By.TAG_NAME, 'strong')\n",
    "for i in excep:\n",
    "    exceptions.append(i.text)'''"
   ]
  },
  {
   "cell_type": "code",
   "execution_count": 26,
   "id": "d69a2d8b",
   "metadata": {},
   "outputs": [],
   "source": [
    "text = []\n",
    "text_elements = driver.find_elements(By.TAG_NAME, 'p')\n",
    "for i in text_elements:\n",
    "    text.append(i.text)"
   ]
  },
  {
   "cell_type": "code",
   "execution_count": 28,
   "id": "2161f459",
   "metadata": {},
   "outputs": [],
   "source": [
    "name = []\n",
    "description = []\n",
    "for i in text[2:42]:\n",
    "    a = text[2].split(':')\n",
    "    name.append(a[0])\n",
    "    description.append(a[1])"
   ]
  },
  {
   "cell_type": "code",
   "execution_count": 31,
   "id": "23cfaf76",
   "metadata": {},
   "outputs": [
    {
     "name": "stdout",
     "output_type": "stream",
     "text": [
      "58\n",
      "40\n"
     ]
    }
   ],
   "source": [
    "print(len(text))\n",
    "print(len(description))"
   ]
  },
  {
   "cell_type": "code",
   "execution_count": 32,
   "id": "6142f8b6",
   "metadata": {},
   "outputs": [
    {
     "data": {
      "text/html": [
       "<div>\n",
       "<style scoped>\n",
       "    .dataframe tbody tr th:only-of-type {\n",
       "        vertical-align: middle;\n",
       "    }\n",
       "\n",
       "    .dataframe tbody tr th {\n",
       "        vertical-align: top;\n",
       "    }\n",
       "\n",
       "    .dataframe thead th {\n",
       "        text-align: right;\n",
       "    }\n",
       "</style>\n",
       "<table border=\"1\" class=\"dataframe\">\n",
       "  <thead>\n",
       "    <tr style=\"text-align: right;\">\n",
       "      <th></th>\n",
       "      <th>Exception_name</th>\n",
       "      <th>Description</th>\n",
       "    </tr>\n",
       "  </thead>\n",
       "  <tbody>\n",
       "    <tr>\n",
       "      <th>0</th>\n",
       "      <td>An exception is an error that happens at the t...</td>\n",
       "      <td>This type of Selenium exception occurs when a...</td>\n",
       "    </tr>\n",
       "    <tr>\n",
       "      <th>1</th>\n",
       "      <td>The exception indicates that, although the eve...</td>\n",
       "      <td>This type of Selenium exception occurs when a...</td>\n",
       "    </tr>\n",
       "    <tr>\n",
       "      <th>2</th>\n",
       "      <td>1. ElementNotVisibleException: This type of Se...</td>\n",
       "      <td>This type of Selenium exception occurs when a...</td>\n",
       "    </tr>\n",
       "    <tr>\n",
       "      <th>3</th>\n",
       "      <td>2. ElementNotSelectableException: This Seleniu...</td>\n",
       "      <td>This type of Selenium exception occurs when a...</td>\n",
       "    </tr>\n",
       "    <tr>\n",
       "      <th>4</th>\n",
       "      <td>3. NoSuchElementException: This Exception occu...</td>\n",
       "      <td>This type of Selenium exception occurs when a...</td>\n",
       "    </tr>\n",
       "    <tr>\n",
       "      <th>5</th>\n",
       "      <td>4. NoSuchFrameException: This Exception occurs...</td>\n",
       "      <td>This type of Selenium exception occurs when a...</td>\n",
       "    </tr>\n",
       "    <tr>\n",
       "      <th>6</th>\n",
       "      <td>5. NoAlertPresentException: This Exception occ...</td>\n",
       "      <td>This type of Selenium exception occurs when a...</td>\n",
       "    </tr>\n",
       "    <tr>\n",
       "      <th>7</th>\n",
       "      <td>6. NoSuchWindowException: This Exception occur...</td>\n",
       "      <td>This type of Selenium exception occurs when a...</td>\n",
       "    </tr>\n",
       "    <tr>\n",
       "      <th>8</th>\n",
       "      <td>7. StaleElementReferenceException: This Seleni...</td>\n",
       "      <td>This type of Selenium exception occurs when a...</td>\n",
       "    </tr>\n",
       "    <tr>\n",
       "      <th>9</th>\n",
       "      <td>8. SessionNotFoundException: The WebDriver is ...</td>\n",
       "      <td>This type of Selenium exception occurs when a...</td>\n",
       "    </tr>\n",
       "    <tr>\n",
       "      <th>10</th>\n",
       "      <td>9. TimeoutException: Thrown when there is not ...</td>\n",
       "      <td>This type of Selenium exception occurs when a...</td>\n",
       "    </tr>\n",
       "    <tr>\n",
       "      <th>11</th>\n",
       "      <td>10. WebDriverException: This Exception takes p...</td>\n",
       "      <td>This type of Selenium exception occurs when a...</td>\n",
       "    </tr>\n",
       "    <tr>\n",
       "      <th>12</th>\n",
       "      <td>11. ConnectionClosedException: This type of Ex...</td>\n",
       "      <td>This type of Selenium exception occurs when a...</td>\n",
       "    </tr>\n",
       "    <tr>\n",
       "      <th>13</th>\n",
       "      <td>12. ElementClickInterceptedException: The comm...</td>\n",
       "      <td>This type of Selenium exception occurs when a...</td>\n",
       "    </tr>\n",
       "    <tr>\n",
       "      <th>14</th>\n",
       "      <td>13. ElementNotInteractableException: This Sele...</td>\n",
       "      <td>This type of Selenium exception occurs when a...</td>\n",
       "    </tr>\n",
       "    <tr>\n",
       "      <th>15</th>\n",
       "      <td>14. ErrorInResponseException: This happens whi...</td>\n",
       "      <td>This type of Selenium exception occurs when a...</td>\n",
       "    </tr>\n",
       "    <tr>\n",
       "      <th>16</th>\n",
       "      <td>15. ErrorHandler.UnknownServerException: Excep...</td>\n",
       "      <td>This type of Selenium exception occurs when a...</td>\n",
       "    </tr>\n",
       "    <tr>\n",
       "      <th>17</th>\n",
       "      <td>16. ImeActivationFailedException: This expecta...</td>\n",
       "      <td>This type of Selenium exception occurs when a...</td>\n",
       "    </tr>\n",
       "    <tr>\n",
       "      <th>18</th>\n",
       "      <td>17. ImeNotAvailableException: It takes place w...</td>\n",
       "      <td>This type of Selenium exception occurs when a...</td>\n",
       "    </tr>\n",
       "    <tr>\n",
       "      <th>19</th>\n",
       "      <td>18. InsecureCertificateException: Navigation m...</td>\n",
       "      <td>This type of Selenium exception occurs when a...</td>\n",
       "    </tr>\n",
       "    <tr>\n",
       "      <th>20</th>\n",
       "      <td>19. InvalidArgumentException: It occurs when a...</td>\n",
       "      <td>This type of Selenium exception occurs when a...</td>\n",
       "    </tr>\n",
       "    <tr>\n",
       "      <th>21</th>\n",
       "      <td>20. InvalidCookieDomainException: This happens...</td>\n",
       "      <td>This type of Selenium exception occurs when a...</td>\n",
       "    </tr>\n",
       "    <tr>\n",
       "      <th>22</th>\n",
       "      <td>21. InvalidCoordinatesException: This type of ...</td>\n",
       "      <td>This type of Selenium exception occurs when a...</td>\n",
       "    </tr>\n",
       "    <tr>\n",
       "      <th>23</th>\n",
       "      <td>22. InvalidElementStateException: It occurs wh...</td>\n",
       "      <td>This type of Selenium exception occurs when a...</td>\n",
       "    </tr>\n",
       "    <tr>\n",
       "      <th>24</th>\n",
       "      <td>23. InvalidSessionIdException: This Exception ...</td>\n",
       "      <td>This type of Selenium exception occurs when a...</td>\n",
       "    </tr>\n",
       "    <tr>\n",
       "      <th>25</th>\n",
       "      <td>24. InvalidSwitchToTargetException: This occur...</td>\n",
       "      <td>This type of Selenium exception occurs when a...</td>\n",
       "    </tr>\n",
       "    <tr>\n",
       "      <th>26</th>\n",
       "      <td>25. JavascriptException: This issue occurs whi...</td>\n",
       "      <td>This type of Selenium exception occurs when a...</td>\n",
       "    </tr>\n",
       "    <tr>\n",
       "      <th>27</th>\n",
       "      <td>26. JsonException: It occurs when you afford t...</td>\n",
       "      <td>This type of Selenium exception occurs when a...</td>\n",
       "    </tr>\n",
       "    <tr>\n",
       "      <th>28</th>\n",
       "      <td>27. NoSuchAttributeException: This kind of Exc...</td>\n",
       "      <td>This type of Selenium exception occurs when a...</td>\n",
       "    </tr>\n",
       "    <tr>\n",
       "      <th>29</th>\n",
       "      <td>28. MoveTargetOutOfBoundsException: It takes p...</td>\n",
       "      <td>This type of Selenium exception occurs when a...</td>\n",
       "    </tr>\n",
       "    <tr>\n",
       "      <th>30</th>\n",
       "      <td>29. NoSuchContextException: ContextAware does ...</td>\n",
       "      <td>This type of Selenium exception occurs when a...</td>\n",
       "    </tr>\n",
       "    <tr>\n",
       "      <th>31</th>\n",
       "      <td>30. NoSuchCookieException: This Exception occu...</td>\n",
       "      <td>This type of Selenium exception occurs when a...</td>\n",
       "    </tr>\n",
       "    <tr>\n",
       "      <th>32</th>\n",
       "      <td>31. NotFoundException: This Exception is a sub...</td>\n",
       "      <td>This type of Selenium exception occurs when a...</td>\n",
       "    </tr>\n",
       "    <tr>\n",
       "      <th>33</th>\n",
       "      <td>32. RemoteDriverServerException: This Selenium...</td>\n",
       "      <td>This type of Selenium exception occurs when a...</td>\n",
       "    </tr>\n",
       "    <tr>\n",
       "      <th>34</th>\n",
       "      <td>33. ScreenshotException: It is not possible to...</td>\n",
       "      <td>This type of Selenium exception occurs when a...</td>\n",
       "    </tr>\n",
       "    <tr>\n",
       "      <th>35</th>\n",
       "      <td>34. SessionNotCreatedException: It happens whe...</td>\n",
       "      <td>This type of Selenium exception occurs when a...</td>\n",
       "    </tr>\n",
       "    <tr>\n",
       "      <th>36</th>\n",
       "      <td>35. UnableToSetCookieException: This occurs if...</td>\n",
       "      <td>This type of Selenium exception occurs when a...</td>\n",
       "    </tr>\n",
       "    <tr>\n",
       "      <th>37</th>\n",
       "      <td>36. UnexpectedTagNameException: Happens if a s...</td>\n",
       "      <td>This type of Selenium exception occurs when a...</td>\n",
       "    </tr>\n",
       "    <tr>\n",
       "      <th>38</th>\n",
       "      <td>37. UnhandledAlertException: This expectation ...</td>\n",
       "      <td>This type of Selenium exception occurs when a...</td>\n",
       "    </tr>\n",
       "    <tr>\n",
       "      <th>39</th>\n",
       "      <td>38. UnexpectedAlertPresentException: It occurs...</td>\n",
       "      <td>This type of Selenium exception occurs when a...</td>\n",
       "    </tr>\n",
       "  </tbody>\n",
       "</table>\n",
       "</div>"
      ],
      "text/plain": [
       "                                       Exception_name  \\\n",
       "0   An exception is an error that happens at the t...   \n",
       "1   The exception indicates that, although the eve...   \n",
       "2   1. ElementNotVisibleException: This type of Se...   \n",
       "3   2. ElementNotSelectableException: This Seleniu...   \n",
       "4   3. NoSuchElementException: This Exception occu...   \n",
       "5   4. NoSuchFrameException: This Exception occurs...   \n",
       "6   5. NoAlertPresentException: This Exception occ...   \n",
       "7   6. NoSuchWindowException: This Exception occur...   \n",
       "8   7. StaleElementReferenceException: This Seleni...   \n",
       "9   8. SessionNotFoundException: The WebDriver is ...   \n",
       "10  9. TimeoutException: Thrown when there is not ...   \n",
       "11  10. WebDriverException: This Exception takes p...   \n",
       "12  11. ConnectionClosedException: This type of Ex...   \n",
       "13  12. ElementClickInterceptedException: The comm...   \n",
       "14  13. ElementNotInteractableException: This Sele...   \n",
       "15  14. ErrorInResponseException: This happens whi...   \n",
       "16  15. ErrorHandler.UnknownServerException: Excep...   \n",
       "17  16. ImeActivationFailedException: This expecta...   \n",
       "18  17. ImeNotAvailableException: It takes place w...   \n",
       "19  18. InsecureCertificateException: Navigation m...   \n",
       "20  19. InvalidArgumentException: It occurs when a...   \n",
       "21  20. InvalidCookieDomainException: This happens...   \n",
       "22  21. InvalidCoordinatesException: This type of ...   \n",
       "23  22. InvalidElementStateException: It occurs wh...   \n",
       "24  23. InvalidSessionIdException: This Exception ...   \n",
       "25  24. InvalidSwitchToTargetException: This occur...   \n",
       "26  25. JavascriptException: This issue occurs whi...   \n",
       "27  26. JsonException: It occurs when you afford t...   \n",
       "28  27. NoSuchAttributeException: This kind of Exc...   \n",
       "29  28. MoveTargetOutOfBoundsException: It takes p...   \n",
       "30  29. NoSuchContextException: ContextAware does ...   \n",
       "31  30. NoSuchCookieException: This Exception occu...   \n",
       "32  31. NotFoundException: This Exception is a sub...   \n",
       "33  32. RemoteDriverServerException: This Selenium...   \n",
       "34  33. ScreenshotException: It is not possible to...   \n",
       "35  34. SessionNotCreatedException: It happens whe...   \n",
       "36  35. UnableToSetCookieException: This occurs if...   \n",
       "37  36. UnexpectedTagNameException: Happens if a s...   \n",
       "38  37. UnhandledAlertException: This expectation ...   \n",
       "39  38. UnexpectedAlertPresentException: It occurs...   \n",
       "\n",
       "                                          Description  \n",
       "0    This type of Selenium exception occurs when a...  \n",
       "1    This type of Selenium exception occurs when a...  \n",
       "2    This type of Selenium exception occurs when a...  \n",
       "3    This type of Selenium exception occurs when a...  \n",
       "4    This type of Selenium exception occurs when a...  \n",
       "5    This type of Selenium exception occurs when a...  \n",
       "6    This type of Selenium exception occurs when a...  \n",
       "7    This type of Selenium exception occurs when a...  \n",
       "8    This type of Selenium exception occurs when a...  \n",
       "9    This type of Selenium exception occurs when a...  \n",
       "10   This type of Selenium exception occurs when a...  \n",
       "11   This type of Selenium exception occurs when a...  \n",
       "12   This type of Selenium exception occurs when a...  \n",
       "13   This type of Selenium exception occurs when a...  \n",
       "14   This type of Selenium exception occurs when a...  \n",
       "15   This type of Selenium exception occurs when a...  \n",
       "16   This type of Selenium exception occurs when a...  \n",
       "17   This type of Selenium exception occurs when a...  \n",
       "18   This type of Selenium exception occurs when a...  \n",
       "19   This type of Selenium exception occurs when a...  \n",
       "20   This type of Selenium exception occurs when a...  \n",
       "21   This type of Selenium exception occurs when a...  \n",
       "22   This type of Selenium exception occurs when a...  \n",
       "23   This type of Selenium exception occurs when a...  \n",
       "24   This type of Selenium exception occurs when a...  \n",
       "25   This type of Selenium exception occurs when a...  \n",
       "26   This type of Selenium exception occurs when a...  \n",
       "27   This type of Selenium exception occurs when a...  \n",
       "28   This type of Selenium exception occurs when a...  \n",
       "29   This type of Selenium exception occurs when a...  \n",
       "30   This type of Selenium exception occurs when a...  \n",
       "31   This type of Selenium exception occurs when a...  \n",
       "32   This type of Selenium exception occurs when a...  \n",
       "33   This type of Selenium exception occurs when a...  \n",
       "34   This type of Selenium exception occurs when a...  \n",
       "35   This type of Selenium exception occurs when a...  \n",
       "36   This type of Selenium exception occurs when a...  \n",
       "37   This type of Selenium exception occurs when a...  \n",
       "38   This type of Selenium exception occurs when a...  \n",
       "39   This type of Selenium exception occurs when a...  "
      ]
     },
     "execution_count": 32,
     "metadata": {},
     "output_type": "execute_result"
    }
   ],
   "source": [
    "df=pd.DataFrame({\"Exception_name\":text[:40],\n",
    "                \"Description\":description[:40]})\n",
    "df"
   ]
  },
  {
   "cell_type": "markdown",
   "id": "f451bb85",
   "metadata": {},
   "source": [
    "### 4. Scrape the details of State-wise GDP of India from statisticstime.com. Url = http://statisticstimes.com/\n",
    "You have to find following details:\n",
    "   - Rank\n",
    "   - State\n",
    "   - GSDP(18-19)\n",
    "   - GSDP(17-18)\n",
    "   - Share(2017)\n",
    "   - GDP($ billion)\n",
    "\n",
    "Note: - From statisticstimes home page you have to reach to economy page through code."
   ]
  },
  {
   "cell_type": "code",
   "execution_count": 46,
   "id": "932591d5",
   "metadata": {},
   "outputs": [
    {
     "name": "stderr",
     "output_type": "stream",
     "text": [
      "C:\\Users\\shiva\\AppData\\Local\\Temp\\ipykernel_14532\\842088449.py:2: DeprecationWarning: executable_path has been deprecated, please pass in a Service object\n",
      "  driver=webdriver.Chrome(r'C:/chrome_driver/chromedriver.exe')\n"
     ]
    }
   ],
   "source": [
    "url=\"https://www.statisticstimes.com/economy/india/indian-states-gdp.php\"\n",
    "driver=webdriver.Chrome(r'C:/chrome_driver/chromedriver.exe')\n",
    "driver.get(url)"
   ]
  },
  {
   "cell_type": "code",
   "execution_count": 36,
   "id": "6ad41957",
   "metadata": {},
   "outputs": [],
   "source": [
    "economy=driver.find_element(By.XPATH, \"//div[@class='dropdown'][2]/div/a[2]\")"
   ]
  },
  {
   "cell_type": "code",
   "execution_count": 37,
   "id": "18269f0c",
   "metadata": {},
   "outputs": [],
   "source": [
    "try:\n",
    "    economy.click()\n",
    "except ElementNotInteractableException:\n",
    "    driver.get(economy.get_attribute('href'))"
   ]
  },
  {
   "cell_type": "code",
   "execution_count": 60,
   "id": "f4789261",
   "metadata": {},
   "outputs": [
    {
     "name": "stdout",
     "output_type": "stream",
     "text": [
      "33\n"
     ]
    }
   ],
   "source": [
    "rank=[]\n",
    "try:\n",
    "    ranks=driver.find_elements(By.XPATH, '//td[@class=\"data1\"]')\n",
    "    for i in ranks[:33]:\n",
    "        rank.append(i.text)\n",
    "except NoSuchElementException:\n",
    "    rank.append('No details available')\n",
    "print(len(rank))"
   ]
  },
  {
   "cell_type": "code",
   "execution_count": 61,
   "id": "6aec2fc0",
   "metadata": {},
   "outputs": [
    {
     "name": "stdout",
     "output_type": "stream",
     "text": [
      "33\n"
     ]
    }
   ],
   "source": [
    "State=[]\n",
    "try:\n",
    "    states=driver.find_elements(By.XPATH, '//td[@class=\"name\"]')\n",
    "    for i in states[:33]:\n",
    "        State.append(i.text)\n",
    "except NoSuchElementException:\n",
    "    State.append('No details available')\n",
    "print(len(State))"
   ]
  },
  {
   "cell_type": "code",
   "execution_count": 67,
   "id": "27d561a7",
   "metadata": {},
   "outputs": [
    {
     "name": "stdout",
     "output_type": "stream",
     "text": [
      "['-', '13.94%', '399.921', '-', '2,039,074', '1,845,853', '8.63%', '247.629', '1,312,929', '1,215,307', '1,687,818', '8.39%', '240.726', '1,166,817', '1,123,982', '-', '7.96%', '228.290', '-', '1,186,379', '1,631,977', '7.91%', '226.806', '1,156,039', '1,091,077', '1,253,832', '5.77%', '165.556', '793,223', '739,525', '1,020,989', '4.99%', '143.179', '711,627', '677,428', '972,782', '4.57%', '131.083', '672,018', '621,301', '969,604', '4.56%', '130.791', '663,258', '612,828', '906,672', '4.29%', '122.977', '561,801', '522,009', '-', '4.14%', '118.733', '-', '559,412', '856,112', '4.10%', '117.703', '634,408', '590,569', '831,610', '3.89%', '111.519', '572,240', '531,085', '611,804', '2.81%', '80.562', '414,977', '375,651', '574,760', '2.79%', '79.957', '418,868', '397,669', '521,275', '2.58%', '74.098', '396,499', '376,877', '-', '1.67%', '47.982', '-', '234,048', '329,180', '1.61%', '46.187', '243,477', '231,182', '328,598', '1.57%', '45.145', '240,036', '224,986', '-', '1.30%', '37.351', '-', '193,273', '-', '0.83%', '23.690', '-', '112,755', '165,472', '0.81%', '23.369', '124,403', '117,851', '80,449', '0.39%', '11.115', '63,408', '57,787', '55,984', '0.26%', '7.571', '40,583', '36,963', '-', '0.22%', '6.397', '-', '31,192', '38,253', '0.18%', '5.230', '25,093', '23,013', '36,572', '0.18%', '5.086', '26,695', '24,682', '32,496', '0.15%', '4.363', '20,017', '18,722', '31,790', '0.15%', '4.233', '20,673', '19,300', '-', '0.14%', '4.144', '-', '17,647', '-', '0.13%', '3.737', '-', '16,676', '26,503', '0.12%', '3.385', '18,797', '16,478', '-', '-', '-', '-', '-', '20,351,013', '18,886,957', '', '2,869', '14,569,268', '14,003,316', '-', '13.97%', '-', '1,794,123', '1,659,210', '8.77%', '1,167,776', '1,079,894', '1,495,758', '8.41%', '1,015,735', '979,159', '1,476,983', '8.09%', '1,035,131', '976,948', '-', '7.92%', '-', '1,036,859', '1,150,711', '5.96%', '713,376', '662,432', '916,014', '5.06%', '630,693', '600,433', '881,873', '4.68%', '594,806', '549,481', '875,429', '4.65%', '595,605', '550,584', '827,019', '4.41%', '496,798', '461,903', '-', '4.24%', '-', '513,322', '779,647', '4.22%', '568,265', '529,739', '755,790', '3.99%', '514,983', '477,834', '562,710', '2.91%', '377,276', '340,512', '517,521', '2.83%', '374,015', '354,830', '457,757', '2.56%', '344,437', '327,805', '-', '1.69%', '-', '207,193', '301,242', '1.63%', '218,232', '204,423', '288,041', '1.60%', '210,837', '200,453', '-', '1.33%', '-', '173,211', '143,063', '0.80%', '107,171', '101,534', '-', '0.78%', '-', '91,666', '72,181', '0.40%', '56,810', '51,878', '50,227', '0.27%', '35,980', '32,830', '-', '0.22%', '-', '27,565', '34,823', '0.19%', '22,291', '20,534', '32,833', '0.18%', '23,564', '21,779', '29,148', '0.15%', '18,549', '17,228', '28,391', '0.15%', '17,060', '15,972', '-', '0.15%', '-', '15,381', '-', '0.13%', '-', '15,013', '24,424', '0.13%', '17,797', '15,372', '-', '-', '-', '-', '17,994,301', '16,704,645', '', '12,681,246', '12,240,380']\n"
     ]
    }
   ],
   "source": [
    "GSDP_19_20=[]\n",
    "try:\n",
    "    info=driver.find_elements(By.XPATH, '//td[@class=\"data\"]')\n",
    "    for i in info:\n",
    "        GSDP_19_20.append(i.text)\n",
    "except NoSuchElementException:\n",
    "    GSDP_19_20.append('No details available')\n",
    "print((GSDP_19_20))"
   ]
  },
  {
   "cell_type": "code",
   "execution_count": 63,
   "id": "43ccd7c0",
   "metadata": {},
   "outputs": [
    {
     "name": "stdout",
     "output_type": "stream",
     "text": [
      "33\n"
     ]
    }
   ],
   "source": [
    "GSDP_18_19=[]\n",
    "try:\n",
    "    info=driver.find_elements(By.XPATH, '//td[@class=\"data sorting_1\"]')\n",
    "    for i in info[:33]:\n",
    "        GSDP_18_19.append(i.text)\n",
    "except NoSuchElementException:\n",
    "    GSDP_18_19.append('No details available')\n",
    "print(len(GSDP_18_19))"
   ]
  },
  {
   "cell_type": "code",
   "execution_count": 64,
   "id": "e454a23d",
   "metadata": {},
   "outputs": [
    {
     "name": "stdout",
     "output_type": "stream",
     "text": [
      "33\n"
     ]
    }
   ],
   "source": [
    "share=[]\n",
    "try:\n",
    "    info=driver.find_elements(By.XPATH, '//td[@class=\"data\"]')\n",
    "    for i in info[:33]:\n",
    "        share.append(i.text)\n",
    "except NoSuchElementException:\n",
    "    share.append('No details available')\n",
    "print(len(share))"
   ]
  },
  {
   "cell_type": "code",
   "execution_count": 65,
   "id": "0f91a2cb",
   "metadata": {},
   "outputs": [
    {
     "name": "stdout",
     "output_type": "stream",
     "text": [
      "33\n"
     ]
    }
   ],
   "source": [
    "GDP_billion=[]\n",
    "try:\n",
    "    info=driver.find_elements(By.XPATH, '//td[@class=\"data\"]')\n",
    "    for i in info[:33]:\n",
    "        GDP_billion.append(i.text)\n",
    "except NoSuchElementException:\n",
    "    GDP_billion.append('No details available')\n",
    "print(len(GDP_billion))"
   ]
  },
  {
   "cell_type": "code",
   "execution_count": 66,
   "id": "883a90ed",
   "metadata": {},
   "outputs": [
    {
     "name": "stdout",
     "output_type": "stream",
     "text": [
      "   Rank                      State GSDP(18-19) GSDP(17-18) Share_2017  \\\n",
      "0     1                Maharashtra           -   2,632,792          -   \n",
      "1     2                 Tamil Nadu      13.94%   1,630,208     13.94%   \n",
      "2     3              Uttar Pradesh     399.921   1,584,764    399.921   \n",
      "3     4                    Gujarat           -   1,502,899          -   \n",
      "4     5                  Karnataka   2,039,074   1,493,127  2,039,074   \n",
      "5     6                West Bengal   1,845,853   1,089,898  1,845,853   \n",
      "6     7                  Rajasthan       8.63%     942,586      8.63%   \n",
      "7     8             Andhra Pradesh     247.629     862,957    247.629   \n",
      "8     9                  Telangana   1,312,929     861,031  1,312,929   \n",
      "9    10             Madhya Pradesh   1,215,307     809,592  1,215,307   \n",
      "10   11                     Kerala   1,687,818     781,653  1,687,818   \n",
      "11   12                      Delhi       8.39%     774,870      8.39%   \n",
      "12   13                    Haryana     240.726     734,163    240.726   \n",
      "13   14                      Bihar   1,166,817     530,363  1,166,817   \n",
      "14   15                     Punjab   1,123,982     526,376  1,123,982   \n",
      "15   16                     Odisha           -     487,805          -   \n",
      "16   17                      Assam       7.96%     315,881      7.96%   \n",
      "17   18               Chhattisgarh     228.290     304,063    228.290   \n",
      "18   19                  Jharkhand           -     297,204          -   \n",
      "19   20                Uttarakhand   1,186,379     245,895  1,186,379   \n",
      "20   21            Jammu & Kashmir   1,631,977     155,956  1,631,977   \n",
      "21   22           Himachal Pradesh       7.91%     153,845      7.91%   \n",
      "22   23                        Goa     226.806      73,170    226.806   \n",
      "23   24                    Tripura   1,156,039      49,845  1,156,039   \n",
      "24   25                 Chandigarh   1,091,077      42,114  1,091,077   \n",
      "25   26                 Puducherry   1,253,832      34,433  1,253,832   \n",
      "26   27                  Meghalaya       5.77%      33,481      5.77%   \n",
      "27   28                     Sikkim     165.556      28,723    165.556   \n",
      "28   29                    Manipur     793,223      27,870    793,223   \n",
      "29   30                   Nagaland     739,525      27,283    739,525   \n",
      "30   31          Arunachal Pradesh   1,020,989      24,603  1,020,989   \n",
      "31   32                    Mizoram       4.99%      22,287      4.99%   \n",
      "32   33  Andaman & Nicobar Islands     143.179           -    143.179   \n",
      "\n",
      "   GDP(Billion_$)  \n",
      "0               -  \n",
      "1          13.94%  \n",
      "2         399.921  \n",
      "3               -  \n",
      "4       2,039,074  \n",
      "5       1,845,853  \n",
      "6           8.63%  \n",
      "7         247.629  \n",
      "8       1,312,929  \n",
      "9       1,215,307  \n",
      "10      1,687,818  \n",
      "11          8.39%  \n",
      "12        240.726  \n",
      "13      1,166,817  \n",
      "14      1,123,982  \n",
      "15              -  \n",
      "16          7.96%  \n",
      "17        228.290  \n",
      "18              -  \n",
      "19      1,186,379  \n",
      "20      1,631,977  \n",
      "21          7.91%  \n",
      "22        226.806  \n",
      "23      1,156,039  \n",
      "24      1,091,077  \n",
      "25      1,253,832  \n",
      "26          5.77%  \n",
      "27        165.556  \n",
      "28        793,223  \n",
      "29        739,525  \n",
      "30      1,020,989  \n",
      "31          4.99%  \n",
      "32        143.179  \n"
     ]
    }
   ],
   "source": [
    "df=pd.DataFrame({'Rank':rank,\n",
    "                'State':State,\n",
    "                'GSDP(18-19)':GSDP_19_20,\n",
    "                'GSDP(17-18)':GSDP_18_19,\n",
    "                'Share_2017':share,\n",
    "                'GDP(Billion_$)':GDP_billion})\n",
    "print(df)"
   ]
  },
  {
   "cell_type": "markdown",
   "id": "927dfbf5",
   "metadata": {},
   "source": [
    "### Scrape the details of trending repositories on Github.com. Url = https://github.com/\n",
    "You have to find the following details:\n",
    "A) Repository title\n",
    "B) Repository description\n",
    "C) Contributors count\n",
    "D) Language used"
   ]
  },
  {
   "cell_type": "code",
   "execution_count": 97,
   "id": "7551b27b",
   "metadata": {},
   "outputs": [
    {
     "name": "stderr",
     "output_type": "stream",
     "text": [
      "C:\\Users\\shiva\\AppData\\Local\\Temp\\ipykernel_14532\\1881645198.py:2: DeprecationWarning: executable_path has been deprecated, please pass in a Service object\n",
      "  driver=webdriver.Chrome(r'C:/chrome_driver/chromedriver.exe')\n"
     ]
    }
   ],
   "source": [
    "url=\"https://github.com/trending\"\n",
    "driver=webdriver.Chrome(r'C:/chrome_driver/chromedriver.exe')\n",
    "driver.get(url)"
   ]
  },
  {
   "cell_type": "code",
   "execution_count": 98,
   "id": "200bcfaf",
   "metadata": {},
   "outputs": [
    {
     "name": "stdout",
     "output_type": "stream",
     "text": [
      "25\n"
     ]
    }
   ],
   "source": [
    "repo_title=[]\n",
    "try:\n",
    "    repos=driver.find_elements(By.XPATH, '//h1[@class=\"h3 lh-condensed\"]')\n",
    "    for i in repos:\n",
    "        repo_title.append(i.text)\n",
    "except NoSuchElementException:\n",
    "    repo_title.append('No details available')\n",
    "print(len(repo_title))"
   ]
  },
  {
   "cell_type": "code",
   "execution_count": 99,
   "id": "d85381fc",
   "metadata": {},
   "outputs": [
    {
     "name": "stdout",
     "output_type": "stream",
     "text": [
      "25\n"
     ]
    }
   ],
   "source": [
    "repo_desc=[]\n",
    "try:\n",
    "    descriptions=driver.find_elements(By.XPATH, '//p[@class=\"col-9 color-fg-muted my-1 pr-4\"]')\n",
    "    for i in descriptions:\n",
    "        repo_desc.append(i.text)\n",
    "except NoSuchElementException:\n",
    "    repo_desc.append('No details available')\n",
    "print(len(repo_desc))"
   ]
  },
  {
   "cell_type": "code",
   "execution_count": 117,
   "id": "761bae75",
   "metadata": {},
   "outputs": [
    {
     "name": "stdout",
     "output_type": "stream",
     "text": [
      "25\n"
     ]
    }
   ],
   "source": [
    "repo_urls=[]\n",
    "repos=driver.find_elements(By.XPATH, '//h1[@class=\"h3 lh-condensed\"]')\n",
    "for i in repos:\n",
    "    repo_urls.append(i.get_attribute('href'))\n",
    "print(len(repo_urls))    "
   ]
  },
  {
   "cell_type": "code",
   "execution_count": 118,
   "id": "ddb53911",
   "metadata": {},
   "outputs": [
    {
     "name": "stdout",
     "output_type": "stream",
     "text": [
      "24\n"
     ]
    }
   ],
   "source": [
    "repo_lang=[]\n",
    "try:\n",
    "    descriptions=driver.find_elements(By.XPATH, '//span[@class=\"repo-language-color\"]')\n",
    "    for i in descriptions:\n",
    "        repo_lang.append(i.text)\n",
    "except NoSuchElementException:\n",
    "    repo_lang.append('No details available')\n",
    "print(len(repo_lang))"
   ]
  },
  {
   "cell_type": "code",
   "execution_count": 114,
   "id": "746dee80",
   "metadata": {},
   "outputs": [
    {
     "name": "stdout",
     "output_type": "stream",
     "text": [
      "0\n"
     ]
    }
   ],
   "source": [
    "print(len(Contributors_count))"
   ]
  },
  {
   "cell_type": "code",
   "execution_count": null,
   "id": "379a602b",
   "metadata": {},
   "outputs": [],
   "source": [
    "df=pd.DataFrame({'Title':repo_title[:23],\n",
    "                'Description':repo_desc[:23],\n",
    "                'Language_used':Language_used[:23], \n",
    "                'URL': repo_urls[:23]})\n",
    "print(df)"
   ]
  },
  {
   "cell_type": "markdown",
   "id": "263757ce",
   "metadata": {},
   "source": [
    "## 6. Scrape the details of top 100 songs on billiboard.com. Url = https:/www.billboard.com/\n",
    "You have to find the following details:\n",
    " - Song name\n",
    " - Artist name\n",
    " - Last week rank\n",
    " - Peak rank\n",
    " - Weeks on board\n",
    "Note: - From the home page you have to click on the charts option then hot 100-page link through code."
   ]
  },
  {
   "cell_type": "code",
   "execution_count": 121,
   "id": "b4befa62",
   "metadata": {},
   "outputs": [
    {
     "name": "stderr",
     "output_type": "stream",
     "text": [
      "C:\\Users\\shiva\\AppData\\Local\\Temp\\ipykernel_14532\\2503263766.py:2: DeprecationWarning: executable_path has been deprecated, please pass in a Service object\n",
      "  driver=webdriver.Chrome(r'C:/chrome_driver/chromedriver.exe')\n"
     ]
    }
   ],
   "source": [
    "url=\"https://www.billboard.com/\"\n",
    "driver=webdriver.Chrome(r'C:/chrome_driver/chromedriver.exe')\n",
    "driver.get(url)"
   ]
  },
  {
   "cell_type": "code",
   "execution_count": 123,
   "id": "b73f46c8",
   "metadata": {},
   "outputs": [],
   "source": [
    "charts=driver.find_element(By.XPATH, '//*[@id=\"main-wrapper\"]/main/div[2]/div[1]/div[1]/div[1]/div[2]/div/div[2]/a[1]')\n",
    "try:\n",
    "    charts.click()\n",
    "except ElementNotInteractableException:\n",
    "    driver.get(charts.get_attribute('href'))"
   ]
  },
  {
   "cell_type": "code",
   "execution_count": 126,
   "id": "582c2aa3",
   "metadata": {},
   "outputs": [
    {
     "name": "stdout",
     "output_type": "stream",
     "text": [
      "199\n"
     ]
    }
   ],
   "source": [
    "song_name=[]\n",
    "try:\n",
    "    names=driver.find_elements(By.XPATH,'//h3[@class=\"c-title  a-no-trucate a-font-primary-bold-s u-letter-spacing-0021 lrv-u-font-size-18@tablet lrv-u-font-size-16 u-line-height-125 u-line-height-normal@mobile-max a-truncate-ellipsis u-max-width-330 u-max-width-230@tablet-only\"]')\n",
    "    for i in names:\n",
    "        song_name.append(i.text)\n",
    "except NoSuchElementException:\n",
    "    song_name.append('No details available')\n",
    "print(len(song_name))"
   ]
  },
  {
   "cell_type": "code",
   "execution_count": 128,
   "id": "2fa4d987",
   "metadata": {},
   "outputs": [
    {
     "name": "stdout",
     "output_type": "stream",
     "text": [
      "199\n"
     ]
    }
   ],
   "source": [
    "artist_name=[]\n",
    "try:\n",
    "    names=driver.find_elements(By.XPATH, '//span[@class=\"c-label  a-no-trucate a-font-primary-s lrv-u-font-size-14@mobile-max u-line-height-normal@mobile-max u-letter-spacing-0021 lrv-u-display-block a-truncate-ellipsis-2line u-max-width-330 u-max-width-230@tablet-only\"]')\n",
    "    for i in names:\n",
    "        artist_name.append(i.text)\n",
    "except NoSuchElementException:\n",
    "    artist_name.append('No details available')\n",
    "print(len(artist_name))"
   ]
  },
  {
   "cell_type": "code",
   "execution_count": 129,
   "id": "9f7c1cad",
   "metadata": {},
   "outputs": [
    {
     "name": "stdout",
     "output_type": "stream",
     "text": [
      "400\n"
     ]
    }
   ],
   "source": [
    "last_rank=[]\n",
    "try:\n",
    "    names=driver.find_elements(By.XPATH, '//li[@class=\"o-chart-results-list__item // a-chart-color u-width-72 u-width-55@mobile-max u-width-55@tablet-only lrv-u-flex lrv-u-flex-shrink-0 lrv-u-align-items-center lrv-u-justify-content-center lrv-u-border-b-1 u-border-b-0@mobile-max lrv-u-border-color-grey-light u-background-color-white-064@mobile-max u-hidden@mobile-max\"]')\n",
    "    for i in names:\n",
    "        last_rank.append(i.text)\n",
    "except NoSuchElementException:\n",
    "    last_rank.append('No details available')\n",
    "print(len(last_rank))"
   ]
  },
  {
   "cell_type": "code",
   "execution_count": 131,
   "id": "8ed13740",
   "metadata": {},
   "outputs": [],
   "source": [
    "week_on_Chart = last_rank[1::2] # Elements from list1 starting from 1 iterating by 2\n",
    "last_week = last_rank[::2] # Elements from list1 starting from 0 iterating by 2"
   ]
  },
  {
   "cell_type": "code",
   "execution_count": 132,
   "id": "fcb2eabd",
   "metadata": {},
   "outputs": [
    {
     "name": "stdout",
     "output_type": "stream",
     "text": [
      "400\n"
     ]
    }
   ],
   "source": [
    "peak_rank=[]\n",
    "try:\n",
    "    names=driver.find_elements(By.XPATH, '//li[@class=\"o-chart-results-list__item // a-chart-bg-color a-chart-color u-width-72 u-width-55@mobile-max u-width-55@tablet-only lrv-u-flex lrv-u-flex-shrink-0 lrv-u-align-items-center lrv-u-justify-content-center lrv-u-background-color-grey-lightest lrv-u-border-b-1 u-border-b-0@mobile-max lrv-u-border-color-grey-light u-hidden@mobile-max\"]')\n",
    "    for i in names:\n",
    "        peak_rank.append(i.text)\n",
    "except NoSuchElementException:\n",
    "    peak_rank.append('No details available')\n",
    "print(len(peak_rank))"
   ]
  },
  {
   "cell_type": "code",
   "execution_count": 133,
   "id": "b3fcdcc9",
   "metadata": {},
   "outputs": [],
   "source": [
    "peak_pos = peak_rank[1::2] # Elements from list1 starting from 1 iterating by 2\n",
    "award = peak_rank[::2] # Elements from list1 starting from 0 iterating by 2"
   ]
  },
  {
   "cell_type": "code",
   "execution_count": 135,
   "id": "46c99276",
   "metadata": {},
   "outputs": [
    {
     "data": {
      "text/html": [
       "<div>\n",
       "<style scoped>\n",
       "    .dataframe tbody tr th:only-of-type {\n",
       "        vertical-align: middle;\n",
       "    }\n",
       "\n",
       "    .dataframe tbody tr th {\n",
       "        vertical-align: top;\n",
       "    }\n",
       "\n",
       "    .dataframe thead th {\n",
       "        text-align: right;\n",
       "    }\n",
       "</style>\n",
       "<table border=\"1\" class=\"dataframe\">\n",
       "  <thead>\n",
       "    <tr style=\"text-align: right;\">\n",
       "      <th></th>\n",
       "      <th>Song_Name</th>\n",
       "      <th>Artist_Name</th>\n",
       "      <th>Last_week_rank</th>\n",
       "      <th>Peak</th>\n",
       "      <th>Weeks_on_chart</th>\n",
       "    </tr>\n",
       "  </thead>\n",
       "  <tbody>\n",
       "    <tr>\n",
       "      <th>0</th>\n",
       "      <td>It's Only Me</td>\n",
       "      <td>Lil Baby</td>\n",
       "      <td>-</td>\n",
       "      <td>1</td>\n",
       "      <td>1</td>\n",
       "    </tr>\n",
       "    <tr>\n",
       "      <th>1</th>\n",
       "      <td>Un Verano Sin Ti</td>\n",
       "      <td>Bad Bunny</td>\n",
       "      <td>1</td>\n",
       "      <td>1</td>\n",
       "      <td>2</td>\n",
       "    </tr>\n",
       "    <tr>\n",
       "      <th>2</th>\n",
       "      <td>Dangerous: The Double Album</td>\n",
       "      <td>Morgan Wallen</td>\n",
       "      <td>2</td>\n",
       "      <td>1</td>\n",
       "      <td>25</td>\n",
       "    </tr>\n",
       "    <tr>\n",
       "      <th>3</th>\n",
       "      <td>The Highlights</td>\n",
       "      <td>The Weeknd</td>\n",
       "      <td>4</td>\n",
       "      <td>1</td>\n",
       "      <td>94</td>\n",
       "    </tr>\n",
       "    <tr>\n",
       "      <th>4</th>\n",
       "      <td>The Car</td>\n",
       "      <td>Arctic Monkeys</td>\n",
       "      <td>5</td>\n",
       "      <td>2</td>\n",
       "      <td>89</td>\n",
       "    </tr>\n",
       "    <tr>\n",
       "      <th>...</th>\n",
       "      <td>...</td>\n",
       "      <td>...</td>\n",
       "      <td>...</td>\n",
       "      <td>...</td>\n",
       "      <td>...</td>\n",
       "    </tr>\n",
       "    <tr>\n",
       "      <th>95</th>\n",
       "      <td>Fighting Demons</td>\n",
       "      <td>Juice WRLD</td>\n",
       "      <td>50</td>\n",
       "      <td>10</td>\n",
       "      <td>9</td>\n",
       "    </tr>\n",
       "    <tr>\n",
       "      <th>96</th>\n",
       "      <td>IGOR</td>\n",
       "      <td>Tyler, The Creator</td>\n",
       "      <td>95</td>\n",
       "      <td>2</td>\n",
       "      <td>46</td>\n",
       "    </tr>\n",
       "    <tr>\n",
       "      <th>97</th>\n",
       "      <td>The Essential Michael Jackson</td>\n",
       "      <td>Michael Jackson</td>\n",
       "      <td>85</td>\n",
       "      <td>1</td>\n",
       "      <td>159</td>\n",
       "    </tr>\n",
       "    <tr>\n",
       "      <th>98</th>\n",
       "      <td>Born Pink</td>\n",
       "      <td>BLACKPINK</td>\n",
       "      <td>99</td>\n",
       "      <td>31</td>\n",
       "      <td>409</td>\n",
       "    </tr>\n",
       "    <tr>\n",
       "      <th>99</th>\n",
       "      <td>Views</td>\n",
       "      <td>Drake</td>\n",
       "      <td>68</td>\n",
       "      <td>1</td>\n",
       "      <td>6</td>\n",
       "    </tr>\n",
       "  </tbody>\n",
       "</table>\n",
       "<p>100 rows × 5 columns</p>\n",
       "</div>"
      ],
      "text/plain": [
       "                        Song_Name         Artist_Name Last_week_rank Peak  \\\n",
       "0                    It's Only Me            Lil Baby              -    1   \n",
       "1                Un Verano Sin Ti           Bad Bunny              1    1   \n",
       "2     Dangerous: The Double Album       Morgan Wallen              2    1   \n",
       "3                  The Highlights          The Weeknd              4    1   \n",
       "4                         The Car      Arctic Monkeys              5    2   \n",
       "..                            ...                 ...            ...  ...   \n",
       "95                Fighting Demons          Juice WRLD             50   10   \n",
       "96                           IGOR  Tyler, The Creator             95    2   \n",
       "97  The Essential Michael Jackson     Michael Jackson             85    1   \n",
       "98                      Born Pink           BLACKPINK             99   31   \n",
       "99                          Views               Drake             68    1   \n",
       "\n",
       "   Weeks_on_chart  \n",
       "0               1  \n",
       "1               2  \n",
       "2              25  \n",
       "3              94  \n",
       "4              89  \n",
       "..            ...  \n",
       "95              9  \n",
       "96             46  \n",
       "97            159  \n",
       "98            409  \n",
       "99              6  \n",
       "\n",
       "[100 rows x 5 columns]"
      ]
     },
     "execution_count": 135,
     "metadata": {},
     "output_type": "execute_result"
    }
   ],
   "source": [
    "df=pd.DataFrame({'Song_Name':song_name[:100],\n",
    "                'Artist_Name':artist_name[:100],\n",
    "                'Last_week_rank':last_week[:100],\n",
    "                'Peak':peak_pos[:100],\n",
    "                'Weeks_on_chart':week_on_Chart[:100]})\n",
    "df"
   ]
  },
  {
   "cell_type": "markdown",
   "id": "5fe3b630",
   "metadata": {},
   "source": [
    "## 7. Scrape the details of Data science recruiters from naukri.com. Url = https://www.naukri.com/\n",
    "You have to find the following details:\n",
    "A) Name\n",
    "B) Designation\n",
    "C) Company\n",
    "D) Skills they hire for\n",
    "E) Location\n",
    "Note: - From naukri.com homepage click on the recruiters option and the on the search pane type Data science and click on search. All this should be done through code"
   ]
  },
  {
   "cell_type": "code",
   "execution_count": 136,
   "id": "f3e8cc7d",
   "metadata": {},
   "outputs": [
    {
     "name": "stderr",
     "output_type": "stream",
     "text": [
      "C:\\Users\\shiva\\AppData\\Local\\Temp\\ipykernel_14532\\1058825279.py:2: DeprecationWarning: executable_path has been deprecated, please pass in a Service object\n",
      "  driver = webdriver.Chrome(\"C:/chrome_driver/chromedriver.exe\")\n"
     ]
    }
   ],
   "source": [
    "# Loading Chrome Driver\n",
    "driver = webdriver.Chrome(\"C:/chrome_driver/chromedriver.exe\")"
   ]
  },
  {
   "cell_type": "code",
   "execution_count": 137,
   "id": "0016e0f5",
   "metadata": {},
   "outputs": [],
   "source": [
    "# opening web address in chrome driver browser to access html, css information\n",
    "driver.get('https://www.naukri.com/')"
   ]
  },
  {
   "cell_type": "code",
   "execution_count": 138,
   "id": "ad420910",
   "metadata": {},
   "outputs": [],
   "source": [
    "# Finding \"Search Bar\" for designation with the help of class name and passing \"Data Analyst\" string as arguement  \n",
    "designation = driver.find_element(By.CLASS_NAME, \"suggestor-input \")\n",
    "designation.send_keys('Data Analyst')"
   ]
  },
  {
   "cell_type": "code",
   "execution_count": 139,
   "id": "41fb3485",
   "metadata": {},
   "outputs": [],
   "source": [
    "# Finding \"Search Bar\" for location with the help of XPATH and passing \"Banglaore\" string as arguement  \n",
    "locations = driver.find_element(By.XPATH, '//*[@id=\"root\"]/div[6]/div/div/div[5]/div/div/div/input')\n",
    "locations.send_keys('Banglaore')"
   ]
  },
  {
   "cell_type": "code",
   "execution_count": 140,
   "id": "58bf0bc9",
   "metadata": {},
   "outputs": [],
   "source": [
    "# Finding \"Button\" for submitting user input, with the help of class name and passing clicking on it to search  \n",
    "search = driver.find_element(By.CLASS_NAME, 'qsbSubmit')\n",
    "search.click()"
   ]
  },
  {
   "cell_type": "code",
   "execution_count": 141,
   "id": "9b18aa5f",
   "metadata": {},
   "outputs": [],
   "source": [
    "# Creating empty lists to append data in list\n",
    "job_title1 = []\n",
    "job_location1 = []\n",
    "company_name1 = []\n",
    "experiance_required1 = []\n",
    "\n",
    "# Getting title tags\n",
    "title_tags = driver.find_elements(By.XPATH, '//a[@class=\"title fw500 ellipsis\"]')\n",
    "\n",
    "# Looping through each tag to get job title, from web element and appending each element to job_title1\n",
    "for i in title_tags[0:10]:\n",
    "    title = i.text\n",
    "    job_title1.append(title)\n",
    "    \n",
    "# Getting location tags\n",
    "location_tags = driver.find_elements(By.XPATH, '//li[@class=\"fleft grey-text br2 placeHolderLi location\"]')\n",
    "\n",
    "# Looping through each tag to get job location, from web element and appending each element to job_location1\n",
    "for i in location_tags[0:10]:\n",
    "    location = i.text\n",
    "    job_location1.append(location)\n",
    "    \n",
    "# Getting company name tags    \n",
    "company_tags = driver.find_elements(By.XPATH, '//a[@class=\"subTitle ellipsis fleft\"]')\n",
    "# Looping through each tag to get company name, from web element and appending each element to company_name1\n",
    "for i in company_tags[0:10]:\n",
    "    company = i.text\n",
    "    company_name1.append(company)\n",
    "\n",
    "# Getting experiance required tags     \n",
    "experiance_tags = driver.find_elements(By.XPATH, '//li[@class=\"fleft grey-text br2 placeHolderLi experience\"]')\n",
    "\n",
    "# Looping through each tag to get experiance required, from web element and appending each element to experiance_required1\n",
    "for i in experiance_tags[0:10]:\n",
    "    experiance = i.text\n",
    "    experiance_required1.append(experiance)"
   ]
  },
  {
   "cell_type": "code",
   "execution_count": 142,
   "id": "1b27925e",
   "metadata": {},
   "outputs": [],
   "source": [
    "# Creating Data Frame to export/process extracted information\n",
    "df = pd.DataFrame()\n",
    "\n",
    "# Creating columns, and assigning values from lists\n",
    "df[\"Title\"] = job_title1\n",
    "df[\"Job_location\"] = job_location1\n",
    "df[\"Company_Name\"] = company_name1\n",
    "df[\"Experiance Required\"] = experiance_required1"
   ]
  },
  {
   "cell_type": "code",
   "execution_count": 143,
   "id": "fd0457ce",
   "metadata": {},
   "outputs": [
    {
     "name": "stdout",
     "output_type": "stream",
     "text": [
      "Job Roles For Data Analyst in Bangalore\n"
     ]
    },
    {
     "data": {
      "text/html": [
       "<div>\n",
       "<style scoped>\n",
       "    .dataframe tbody tr th:only-of-type {\n",
       "        vertical-align: middle;\n",
       "    }\n",
       "\n",
       "    .dataframe tbody tr th {\n",
       "        vertical-align: top;\n",
       "    }\n",
       "\n",
       "    .dataframe thead th {\n",
       "        text-align: right;\n",
       "    }\n",
       "</style>\n",
       "<table border=\"1\" class=\"dataframe\">\n",
       "  <thead>\n",
       "    <tr style=\"text-align: right;\">\n",
       "      <th></th>\n",
       "      <th>Title</th>\n",
       "      <th>Job_location</th>\n",
       "      <th>Company_Name</th>\n",
       "      <th>Experiance Required</th>\n",
       "    </tr>\n",
       "  </thead>\n",
       "  <tbody>\n",
       "    <tr>\n",
       "      <th>0</th>\n",
       "      <td>Senior Data Analyst - PLM Data Migration</td>\n",
       "      <td>Bangalore/Bengaluru</td>\n",
       "      <td>CGI</td>\n",
       "      <td>3-6 Yrs</td>\n",
       "    </tr>\n",
       "    <tr>\n",
       "      <th>1</th>\n",
       "      <td>Associate Healthcare Research &amp; Data Analyst</td>\n",
       "      <td>Bangalore/Bengaluru</td>\n",
       "      <td>Clarivate</td>\n",
       "      <td>3-4 Yrs</td>\n",
       "    </tr>\n",
       "    <tr>\n",
       "      <th>2</th>\n",
       "      <td>Lead Data Analyst</td>\n",
       "      <td>Bangalore/Bengaluru</td>\n",
       "      <td>Mobile Premier League (MPL)</td>\n",
       "      <td>4-7 Yrs</td>\n",
       "    </tr>\n",
       "    <tr>\n",
       "      <th>3</th>\n",
       "      <td>Contractual Hiring For Top MNC || Business Dat...</td>\n",
       "      <td>Bangalore/Bengaluru</td>\n",
       "      <td>TeamLease</td>\n",
       "      <td>5-8 Yrs</td>\n",
       "    </tr>\n",
       "    <tr>\n",
       "      <th>4</th>\n",
       "      <td>Master Data Management Business Analyst</td>\n",
       "      <td>Bangalore/Bengaluru</td>\n",
       "      <td>Accenture</td>\n",
       "      <td>6-8 Yrs</td>\n",
       "    </tr>\n",
       "    <tr>\n",
       "      <th>5</th>\n",
       "      <td>Data Analyst</td>\n",
       "      <td>Bangalore/Bengaluru</td>\n",
       "      <td>Elasticsearch</td>\n",
       "      <td>2-5 Yrs</td>\n",
       "    </tr>\n",
       "    <tr>\n",
       "      <th>6</th>\n",
       "      <td>Sr. Data Analyst (SAS Data Management)</td>\n",
       "      <td>New Delhi, Bangalore/Bengaluru</td>\n",
       "      <td>NMS Consultant</td>\n",
       "      <td>5-10 Yrs</td>\n",
       "    </tr>\n",
       "    <tr>\n",
       "      <th>7</th>\n",
       "      <td>Data Analyst</td>\n",
       "      <td>Bangalore/Bengaluru</td>\n",
       "      <td>IBM</td>\n",
       "      <td>3-4 Yrs</td>\n",
       "    </tr>\n",
       "    <tr>\n",
       "      <th>8</th>\n",
       "      <td>Data Analyst</td>\n",
       "      <td>Bangalore/Bengaluru</td>\n",
       "      <td>IBM</td>\n",
       "      <td>3-4 Yrs</td>\n",
       "    </tr>\n",
       "    <tr>\n",
       "      <th>9</th>\n",
       "      <td>Lead Data Management Analyst</td>\n",
       "      <td>Chennai, Bangalore/Bengaluru</td>\n",
       "      <td>Wells Fargo</td>\n",
       "      <td>5-8 Yrs</td>\n",
       "    </tr>\n",
       "  </tbody>\n",
       "</table>\n",
       "</div>"
      ],
      "text/plain": [
       "                                               Title  \\\n",
       "0           Senior Data Analyst - PLM Data Migration   \n",
       "1       Associate Healthcare Research & Data Analyst   \n",
       "2                                  Lead Data Analyst   \n",
       "3  Contractual Hiring For Top MNC || Business Dat...   \n",
       "4            Master Data Management Business Analyst   \n",
       "5                                       Data Analyst   \n",
       "6             Sr. Data Analyst (SAS Data Management)   \n",
       "7                                       Data Analyst   \n",
       "8                                       Data Analyst   \n",
       "9                       Lead Data Management Analyst   \n",
       "\n",
       "                     Job_location                 Company_Name  \\\n",
       "0             Bangalore/Bengaluru                          CGI   \n",
       "1             Bangalore/Bengaluru                    Clarivate   \n",
       "2             Bangalore/Bengaluru  Mobile Premier League (MPL)   \n",
       "3             Bangalore/Bengaluru                    TeamLease   \n",
       "4             Bangalore/Bengaluru                    Accenture   \n",
       "5             Bangalore/Bengaluru                Elasticsearch   \n",
       "6  New Delhi, Bangalore/Bengaluru               NMS Consultant   \n",
       "7             Bangalore/Bengaluru                          IBM   \n",
       "8             Bangalore/Bengaluru                          IBM   \n",
       "9    Chennai, Bangalore/Bengaluru                  Wells Fargo   \n",
       "\n",
       "  Experiance Required  \n",
       "0             3-6 Yrs  \n",
       "1             3-4 Yrs  \n",
       "2             4-7 Yrs  \n",
       "3             5-8 Yrs  \n",
       "4             6-8 Yrs  \n",
       "5             2-5 Yrs  \n",
       "6            5-10 Yrs  \n",
       "7             3-4 Yrs  \n",
       "8             3-4 Yrs  \n",
       "9             5-8 Yrs  "
      ]
     },
     "execution_count": 143,
     "metadata": {},
     "output_type": "execute_result"
    }
   ],
   "source": [
    "print(\"Job Roles For Data Analyst in Bangalore\")\n",
    "df"
   ]
  },
  {
   "cell_type": "markdown",
   "id": "f133472e",
   "metadata": {},
   "source": [
    "## 8. Scrape the details of Highest selling novels.\n",
    "Url = https://www.theguardian.com/news/datablog/2012/aug/09/best-selling-books-all-time-fifty-shades-grey- compare/\n",
    "You have to find the following details:\n",
    " - Book name\n",
    " - Author name\n",
    " - Volumes sold\n",
    " - Publisher\n",
    " - Genre"
   ]
  },
  {
   "cell_type": "code",
   "execution_count": 144,
   "id": "a1e91f51",
   "metadata": {},
   "outputs": [
    {
     "name": "stderr",
     "output_type": "stream",
     "text": [
      "C:\\Users\\shiva\\AppData\\Local\\Temp\\ipykernel_14532\\2715695504.py:2: DeprecationWarning: executable_path has been deprecated, please pass in a Service object\n",
      "  driver=webdriver.Chrome(r'C:/chrome_driver/chromedriver.exe')\n"
     ]
    }
   ],
   "source": [
    "url=\"https://www.theguardian.com/news/datablog/2012/aug/09/best-selling-books-all-time-fifty-shades-grey- compare/\"\n",
    "driver=webdriver.Chrome(r'C:/chrome_driver/chromedriver.exe')\n",
    "driver.get(url)"
   ]
  },
  {
   "cell_type": "code",
   "execution_count": 145,
   "id": "4d5f1d52",
   "metadata": {},
   "outputs": [
    {
     "name": "stdout",
     "output_type": "stream",
     "text": [
      "0\n"
     ]
    }
   ],
   "source": [
    "book_name=[]\n",
    "try:\n",
    "    names=driver.find_elements(By.XPATH, \"//table[@class='in-article sortable']/tbody/tr/td[2]\")\n",
    "    for i in names:\n",
    "        book_name.append(i.text)\n",
    "except NoSuchElementException:\n",
    "    book_name.append('No details available')\n",
    "print(len(book_name))"
   ]
  },
  {
   "cell_type": "code",
   "execution_count": 146,
   "id": "55f1b732",
   "metadata": {},
   "outputs": [
    {
     "name": "stdout",
     "output_type": "stream",
     "text": [
      "0\n"
     ]
    }
   ],
   "source": [
    "author_name=[]\n",
    "try:\n",
    "    names=driver.find_elements(By.XPATH, \"//table[@class='in-article sortable']/tbody/tr/td[3]\")\n",
    "    for i in names:\n",
    "        author_name.append(i.text)\n",
    "except NoSuchElementException:\n",
    "    author_name.append('No details available')\n",
    "\n",
    "print(len(author_name))"
   ]
  },
  {
   "cell_type": "code",
   "execution_count": 147,
   "id": "3d4ff57b",
   "metadata": {},
   "outputs": [
    {
     "name": "stdout",
     "output_type": "stream",
     "text": [
      "0\n"
     ]
    }
   ],
   "source": [
    "author_name=[]\n",
    "try:\n",
    "    names=driver.find_elements(By.XPATH, \"//table[@class='in-article sortable']/tbody/tr/td[4]\")\n",
    "    for i in names:\n",
    "        author_name.append(i.text)\n",
    "except NoSuchElementException:\n",
    "    author_name.append('No details available')\n",
    "\n",
    "print(len(author_name))"
   ]
  },
  {
   "cell_type": "code",
   "execution_count": 148,
   "id": "7e2e67a2",
   "metadata": {},
   "outputs": [
    {
     "name": "stdout",
     "output_type": "stream",
     "text": [
      "0\n"
     ]
    }
   ],
   "source": [
    "publisher=[]\n",
    "try:\n",
    "    publishers=driver.find_elements(By.XPATH, \"//table[@class='in-article sortable']/tbody/tr/td[5]\")\n",
    "    for i in publishers:\n",
    "        publisher.append(i.text)\n",
    "except NoSuchElementException:\n",
    "    publisher.append('No details available')\n",
    "\n",
    "print(len(publisher))"
   ]
  },
  {
   "cell_type": "code",
   "execution_count": 149,
   "id": "f3cd92fc",
   "metadata": {},
   "outputs": [
    {
     "name": "stdout",
     "output_type": "stream",
     "text": [
      "0\n"
     ]
    }
   ],
   "source": [
    "genre=[]\n",
    "try:\n",
    "    genres=driver.find_elements(By.XPATH,\"//table[@class='in-article sortable']/tbody/tr/td[6]\")\n",
    "    for i in genres:\n",
    "        genre.append(i.text)\n",
    "except NoSuchElementException:#handling no such element exception\n",
    "    genre.append('No details available')\n",
    "\n",
    "print(len(genre))"
   ]
  },
  {
   "cell_type": "code",
   "execution_count": null,
   "id": "2a0ed38a",
   "metadata": {},
   "outputs": [],
   "source": [
    "#creating dataframe\n",
    "df=pd.DataFrame({\"Book_name\":book_name,\n",
    "                \"Author_name\":author_name,\n",
    "                'Volume sold':Sale,\n",
    "                'Publisher':publisher,\n",
    "                'Genre':genre})\n",
    "print(df)"
   ]
  },
  {
   "cell_type": "markdown",
   "id": "70ced409",
   "metadata": {},
   "source": [
    "### 9. Scrape the details most watched tv series of all time from imdb.com. Url = https://www.imdb.com/list/ls095964455/\n",
    "You have to find the following details:\n",
    "- Name\n",
    "- Year span\n",
    "- Genre\n",
    "- Run time\n",
    "- Ratings\n",
    "- Votes"
   ]
  },
  {
   "cell_type": "code",
   "execution_count": 152,
   "id": "4c8bb7d7",
   "metadata": {},
   "outputs": [],
   "source": [
    "import re"
   ]
  },
  {
   "cell_type": "code",
   "execution_count": 153,
   "id": "730e3ae6",
   "metadata": {},
   "outputs": [
    {
     "data": {
      "text/html": [
       "<div>\n",
       "<style scoped>\n",
       "    .dataframe tbody tr th:only-of-type {\n",
       "        vertical-align: middle;\n",
       "    }\n",
       "\n",
       "    .dataframe tbody tr th {\n",
       "        vertical-align: top;\n",
       "    }\n",
       "\n",
       "    .dataframe thead th {\n",
       "        text-align: right;\n",
       "    }\n",
       "</style>\n",
       "<table border=\"1\" class=\"dataframe\">\n",
       "  <thead>\n",
       "    <tr style=\"text-align: right;\">\n",
       "      <th></th>\n",
       "      <th>Rank</th>\n",
       "      <th>Movie Name</th>\n",
       "      <th>Year</th>\n",
       "      <th>Ratings</th>\n",
       "    </tr>\n",
       "  </thead>\n",
       "  <tbody>\n",
       "    <tr>\n",
       "      <th>0</th>\n",
       "      <td>1</td>\n",
       "      <td>The Shawshank Redemption</td>\n",
       "      <td>1994</td>\n",
       "      <td>9.2</td>\n",
       "    </tr>\n",
       "    <tr>\n",
       "      <th>1</th>\n",
       "      <td>2</td>\n",
       "      <td>The Godfather</td>\n",
       "      <td>1972</td>\n",
       "      <td>9.2</td>\n",
       "    </tr>\n",
       "    <tr>\n",
       "      <th>2</th>\n",
       "      <td>3</td>\n",
       "      <td>The Dark Knight</td>\n",
       "      <td>2008</td>\n",
       "      <td>9.0</td>\n",
       "    </tr>\n",
       "    <tr>\n",
       "      <th>3</th>\n",
       "      <td>4</td>\n",
       "      <td>The Godfather Part II</td>\n",
       "      <td>1974</td>\n",
       "      <td>9.0</td>\n",
       "    </tr>\n",
       "    <tr>\n",
       "      <th>4</th>\n",
       "      <td>5</td>\n",
       "      <td>12 Angry Men</td>\n",
       "      <td>1957</td>\n",
       "      <td>9.0</td>\n",
       "    </tr>\n",
       "    <tr>\n",
       "      <th>...</th>\n",
       "      <td>...</td>\n",
       "      <td>...</td>\n",
       "      <td>...</td>\n",
       "      <td>...</td>\n",
       "    </tr>\n",
       "    <tr>\n",
       "      <th>95</th>\n",
       "      <td>96</td>\n",
       "      <td>M - Eine Stadt sucht einen Mörder</td>\n",
       "      <td>1931</td>\n",
       "      <td>8.3</td>\n",
       "    </tr>\n",
       "    <tr>\n",
       "      <th>96</th>\n",
       "      <td>97</td>\n",
       "      <td>Lawrence of Arabia</td>\n",
       "      <td>1962</td>\n",
       "      <td>8.3</td>\n",
       "    </tr>\n",
       "    <tr>\n",
       "      <th>97</th>\n",
       "      <td>98</td>\n",
       "      <td>Idi i smotri</td>\n",
       "      <td>1985</td>\n",
       "      <td>8.3</td>\n",
       "    </tr>\n",
       "    <tr>\n",
       "      <th>98</th>\n",
       "      <td>99</td>\n",
       "      <td>North by Northwest</td>\n",
       "      <td>1959</td>\n",
       "      <td>8.2</td>\n",
       "    </tr>\n",
       "    <tr>\n",
       "      <th>99</th>\n",
       "      <td>100</td>\n",
       "      <td>.Vertigo</td>\n",
       "      <td>1958</td>\n",
       "      <td>8.2</td>\n",
       "    </tr>\n",
       "  </tbody>\n",
       "</table>\n",
       "<p>100 rows × 4 columns</p>\n",
       "</div>"
      ],
      "text/plain": [
       "    Rank                         Movie Name  Year Ratings\n",
       "0      1           The Shawshank Redemption  1994     9.2\n",
       "1      2                      The Godfather  1972     9.2\n",
       "2      3                    The Dark Knight  2008     9.0\n",
       "3      4              The Godfather Part II  1974     9.0\n",
       "4      5                       12 Angry Men  1957     9.0\n",
       "..   ...                                ...   ...     ...\n",
       "95    96  M - Eine Stadt sucht einen Mörder  1931     8.3\n",
       "96    97                 Lawrence of Arabia  1962     8.3\n",
       "97    98                       Idi i smotri  1985     8.3\n",
       "98    99                 North by Northwest  1959     8.2\n",
       "99   100                           .Vertigo  1958     8.2\n",
       "\n",
       "[100 rows x 4 columns]"
      ]
     },
     "execution_count": 153,
     "metadata": {},
     "output_type": "execute_result"
    }
   ],
   "source": [
    "def imdb_top_100(url=\"https://www.imdb.com/chart/top/\"):  # Defining function\n",
    "    \n",
    "    html = requests.get(url)\n",
    "    html.content\n",
    "    soup = BeautifulSoup(html.content, \"html.parser\")\n",
    "    soup.prettify\n",
    "    \n",
    "    # Finding Movie Names\n",
    "    movie_names = soup.find_all('td', class_=\"titleColumn\")\n",
    "    movies = []\n",
    "    for movie in movie_names:\n",
    "        movie = movie.get_text().replace(\"\\n\", \"\")\n",
    "        movies.append(movie.strip(\" \"))\n",
    "        \n",
    "    #Movie Ratings\n",
    "    all_ratings = soup.find_all('td', class_=\"ratingColumn imdbRating\")\n",
    "    ratings = []\n",
    "    for rating in all_ratings:\n",
    "        rating = rating.get_text().replace(\"\\n\", \"\")\n",
    "        ratings.append(rating)\n",
    "        \n",
    "    # Creating data frame and extracting name, year, number\n",
    "    df = pd.DataFrame()\n",
    "    df['movies'] = movies\n",
    "    df['ratings'] = ratings\n",
    "\n",
    "    # Removing additional Spaces\n",
    "    new_movies = []\n",
    "    for i in df[\"movies\"]:\n",
    "        a = i.replace(\"      \", \"\")\n",
    "        new_movies.append(a)\n",
    "    # print(len(new_movies))\n",
    "\n",
    "    # Adding New Data Frame to DF\n",
    "\n",
    "    df[\"new\"] = new_movies\n",
    "    \n",
    "    \n",
    "    # Seperating Releasing Year\n",
    "    release_year = []\n",
    "    for i in range(0, len(df)):\n",
    "        a_string = df[\"movies\"][i]\n",
    "        result = re.search(r\"\\(([A-Za-z0-9_]+)\\)\", a_string)\n",
    "        release_year.append(result.group(1))\n",
    "    # print(release_year)\n",
    "\n",
    "\n",
    "    \n",
    "    # Adding releasing year to DF\n",
    "    df[\"Release Year\"] = release_year  # Seperating release year\n",
    "    df.head()\n",
    "    \n",
    "    \n",
    "    # Deleting Existing Name from Data Frame\n",
    "    # New_Movie_name added in file\n",
    "    movie_name = []\n",
    "    for i in range(0, len(df[\"new\"])):\n",
    "        in_str = str(i)\n",
    "        len_of_st = len(in_str) + 1\n",
    "        a = df[\"new\"][i][len_of_st:-6]\n",
    "        movie_name.append(a)\n",
    "    df[\"Movie Name\"] = movie_name\n",
    "    \n",
    "    \n",
    "    new_df = pd.DataFrame()\n",
    "    # new_df.style.hide_index()\n",
    "    new_df[\"Rank\"] = [i for i in range(1, 251)]\n",
    "    new_df[\"Movie Name\"] = movie_name\n",
    "    new_df[\"Year\"] = release_year\n",
    "    new_df[\"Ratings\"] = ratings\n",
    "    return new_df.head(100)\n",
    "\n",
    "imdb_top_100(\"https://www.imdb.com/chart/top/\")"
   ]
  },
  {
   "cell_type": "markdown",
   "id": "d2c853f7",
   "metadata": {},
   "source": [
    "### 10. Details of Datasets from UCI machine learning repositories. Url = https://archive.ics.uci.edu/\n",
    "You have to find the following details:\n",
    "- Dataset name\n",
    "- Data type\n",
    "- Task\n",
    "- Attribute type\n",
    "- No of instances\n",
    "- No of attribute\n",
    "- Year\n",
    "Note: - from the home page you have to go to the ShowAllDataset page through code."
   ]
  },
  {
   "cell_type": "code",
   "execution_count": 154,
   "id": "a4bfd359",
   "metadata": {},
   "outputs": [
    {
     "name": "stderr",
     "output_type": "stream",
     "text": [
      "C:\\Users\\shiva\\AppData\\Local\\Temp\\ipykernel_14532\\2452019179.py:2: DeprecationWarning: executable_path has been deprecated, please pass in a Service object\n",
      "  driver=webdriver.Chrome(r'C:/chrome_driver/chromedriver.exe')\n"
     ]
    }
   ],
   "source": [
    "url=\"https://archive.ics.uci.edu/\"\n",
    "driver=webdriver.Chrome(r'C:/chrome_driver/chromedriver.exe')\n",
    "driver.get(url)"
   ]
  },
  {
   "cell_type": "code",
   "execution_count": 156,
   "id": "2aa42296",
   "metadata": {},
   "outputs": [],
   "source": [
    "show=driver.find_element(By.XPATH, \"//a[@href='datasets.php']\")\n",
    "show.click()"
   ]
  },
  {
   "cell_type": "code",
   "execution_count": 157,
   "id": "870473a4",
   "metadata": {},
   "outputs": [
    {
     "name": "stdout",
     "output_type": "stream",
     "text": [
      "622\n"
     ]
    }
   ],
   "source": [
    "name=[]\n",
    "try:\n",
    "    names=driver.find_elements(By.XPATH, \"/html/body/table[2]/tbody/tr/td[2]/table[2]/tbody/tr/td[1]/table/tbody/tr/td[2]/p/b/a\")\n",
    "    for i in names:\n",
    "        name.append(i.text)\n",
    "except NoSuchElementException:\n",
    "    name.append('No details available')\n",
    "print(len(name))"
   ]
  },
  {
   "cell_type": "code",
   "execution_count": 158,
   "id": "6d73742e",
   "metadata": {},
   "outputs": [
    {
     "name": "stdout",
     "output_type": "stream",
     "text": [
      "622\n"
     ]
    }
   ],
   "source": [
    "data_type=[]\n",
    "try:\n",
    "    info=driver.find_elements(By.XPATH, \"/html/body/table[2]/tbody/tr/td[2]/table[2]/tbody/tr/td[2]\")\n",
    "    for i in info[1:]:\n",
    "         data_type.append(i.text)\n",
    "except NoSuchElementException:\n",
    "    data_type.append(\"No information\")\n",
    "print(len(data_type))"
   ]
  },
  {
   "cell_type": "code",
   "execution_count": 159,
   "id": "b29dd1ba",
   "metadata": {},
   "outputs": [
    {
     "name": "stdout",
     "output_type": "stream",
     "text": [
      "622\n"
     ]
    }
   ],
   "source": [
    "default_task=[]\n",
    "try:\n",
    "    info=driver.find_elements(By.XPATH, \"/html/body/table[2]/tbody/tr/td[2]/table[2]/tbody/tr/td[3]\")\n",
    "    for i in info[1:]:\n",
    "         default_task.append(i.text)\n",
    "except NoSuchElementException:\n",
    "    default_task.append(\"No information\")\n",
    "print(len(default_task))"
   ]
  },
  {
   "cell_type": "code",
   "execution_count": 160,
   "id": "48ecba16",
   "metadata": {},
   "outputs": [
    {
     "name": "stdout",
     "output_type": "stream",
     "text": [
      "622\n"
     ]
    }
   ],
   "source": [
    "attr_type=[]\n",
    "try:\n",
    "    info=driver.find_elements(By.XPATH, \"/html/body/table[2]/tbody/tr/td[2]/table[2]/tbody/tr/td[4]\")\n",
    "    for i in info[1:]:\n",
    "         attr_type.append(i.text)\n",
    "except NoSuchElementException:\n",
    "    attr_type.append(\"No information\")\n",
    "print(len(attr_type))"
   ]
  },
  {
   "cell_type": "code",
   "execution_count": 161,
   "id": "8e166b86",
   "metadata": {},
   "outputs": [
    {
     "name": "stdout",
     "output_type": "stream",
     "text": [
      "622\n"
     ]
    }
   ],
   "source": [
    "no_of_instances=[]\n",
    "try:\n",
    "    info=driver.find_elements(By.XPATH, \"/html/body/table[2]/tbody/tr/td[2]/table[2]/tbody/tr/td[5]\")\n",
    "    for i in info[1:]:\n",
    "         no_of_instances.append(i.text)\n",
    "except NoSuchElementException:\n",
    "    no_of_instances.append(\"No information\")\n",
    "print(len(no_of_instances))"
   ]
  },
  {
   "cell_type": "code",
   "execution_count": 162,
   "id": "bf1faae5",
   "metadata": {},
   "outputs": [
    {
     "name": "stdout",
     "output_type": "stream",
     "text": [
      "622\n"
     ]
    }
   ],
   "source": [
    "no_of_attributes=[]\n",
    "try:\n",
    "    info=driver.find_elements(By.XPATH, \"/html/body/table[2]/tbody/tr/td[2]/table[2]/tbody/tr/td[6]\")\n",
    "    for i in info[1:]:\n",
    "         no_of_attributes.append(i.text)\n",
    "except NoSuchElementException:\n",
    "    no_of_attributes.append(\"No information\")\n",
    "print(len(no_of_attributes))"
   ]
  },
  {
   "cell_type": "code",
   "execution_count": 163,
   "id": "b162ae39",
   "metadata": {},
   "outputs": [
    {
     "name": "stdout",
     "output_type": "stream",
     "text": [
      "622\n"
     ]
    }
   ],
   "source": [
    "year=[]\n",
    "try:\n",
    "    info=driver.find_elements(By.XPATH, \"/html/body/table[2]/tbody/tr/td[2]/table[2]/tbody/tr/td[7]\")\n",
    "    for i in info[1:]:\n",
    "         year.append(i.text)\n",
    "except NoSuchElementException:\n",
    "    year.append(\"No information\")\n",
    "print(len(year))"
   ]
  },
  {
   "cell_type": "code",
   "execution_count": 164,
   "id": "6c193f6a",
   "metadata": {},
   "outputs": [
    {
     "name": "stdout",
     "output_type": "stream",
     "text": [
      "                                                  Name  \\\n",
      "0                                              Abalone   \n",
      "1                                                Adult   \n",
      "2                                            Annealing   \n",
      "3                         Anonymous Microsoft Web Data   \n",
      "4                                           Arrhythmia   \n",
      "..                                                 ...   \n",
      "617  Influenza outbreak event prediction via Twitte...   \n",
      "618                      Turkish Music Emotion Dataset   \n",
      "619                      Maternal Health Risk Data Set   \n",
      "620                          Room Occupancy Estimation   \n",
      "621  Image Recognition Task Execution Times in Mobi...   \n",
      "\n",
      "                      Data_type                  Task  \\\n",
      "0                 Multivariate        Classification    \n",
      "1                 Multivariate        Classification    \n",
      "2                 Multivariate        Classification    \n",
      "3                                Recommender-Systems    \n",
      "4                 Multivariate        Classification    \n",
      "..                          ...                   ...   \n",
      "617               Multivariate        Classification    \n",
      "618               Multivariate        Classification    \n",
      "619                                   Classification    \n",
      "620  Multivariate, Time-Series        Classification    \n",
      "621                 Univariate            Regression    \n",
      "\n",
      "                  Attribute_type No_of_instances No_of_attributes   Year  \n",
      "0    Categorical, Integer, Real            4177                8   1995   \n",
      "1          Categorical, Integer           48842               14   1996   \n",
      "2    Categorical, Integer, Real             798               38          \n",
      "3                   Categorical           37711              294   1998   \n",
      "4    Categorical, Integer, Real             452              279   1998   \n",
      "..                           ...             ...              ...    ...  \n",
      "617               Integer, Real           75840              525   2020   \n",
      "618               Integer, Real             400               50   2020   \n",
      "619                                        1014                7   2020   \n",
      "620                        Real           10129               16   2021   \n",
      "621                        Real            4000                2   2021   \n",
      "\n",
      "[622 rows x 7 columns]\n"
     ]
    }
   ],
   "source": [
    "df=pd.DataFrame({'Name':name,\n",
    "                'Data_type':data_type,\n",
    "                'Task':default_task,\n",
    "                'Attribute_type':attr_type,\n",
    "                'No_of_instances':no_of_instances,\n",
    "                'No_of_attributes':no_of_attributes,\n",
    "                'Year':year})\n",
    "print(df)"
   ]
  },
  {
   "cell_type": "code",
   "execution_count": null,
   "id": "20a21bc6",
   "metadata": {},
   "outputs": [],
   "source": []
  }
 ],
 "metadata": {
  "kernelspec": {
   "display_name": "Python 3 (ipykernel)",
   "language": "python",
   "name": "python3"
  },
  "language_info": {
   "codemirror_mode": {
    "name": "ipython",
    "version": 3
   },
   "file_extension": ".py",
   "mimetype": "text/x-python",
   "name": "python",
   "nbconvert_exporter": "python",
   "pygments_lexer": "ipython3",
   "version": "3.9.12"
  }
 },
 "nbformat": 4,
 "nbformat_minor": 5
}
