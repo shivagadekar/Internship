{
 "cells": [
  {
   "cell_type": "markdown",
   "id": "60e6ab5a",
   "metadata": {},
   "source": [
    "# Q11 - Write a python program to find the factorial of a number. "
   ]
  },
  {
   "cell_type": "code",
   "execution_count": 1,
   "id": "4829b6ae",
   "metadata": {},
   "outputs": [
    {
     "name": "stdout",
     "output_type": "stream",
     "text": [
      "3628800\n"
     ]
    }
   ],
   "source": [
    "a_number = 10   # Test Case, 10! = 3628800\n",
    "# a_number = int(input(\"Enter a Whole Number : \"))\n",
    "factorial = 1   #initialization\n",
    "try:\n",
    "    for i in range(1, a_number+1):\n",
    "        factorial *= i\n",
    "        # print(factorial)   # To understand whats happending at each iteration\n",
    "    print(factorial)\n",
    "except ValueError:\n",
    "    print(\"Factorial of Zero is Zero\")\n",
    "    "
   ]
  },
  {
   "cell_type": "markdown",
   "id": "87f02911",
   "metadata": {},
   "source": [
    "# Q12. Write a python program to find whether a number is prime or composite. "
   ]
  },
  {
   "cell_type": "code",
   "execution_count": 2,
   "id": "1205b909",
   "metadata": {},
   "outputs": [
    {
     "name": "stdout",
     "output_type": "stream",
     "text": [
      "It is Composite Number\n",
      "[1, 3, 5]\n"
     ]
    }
   ],
   "source": [
    "number = 15 # Test Case, 15 = is com\n",
    "divisors = 0\n",
    "list_of_divisors = []\n",
    "for i in range(1, number//2):\n",
    "    if number % i == 0:\n",
    "        divisors += 1\n",
    "        list_of_divisors.append(i)\n",
    "if divisors > 2:\n",
    "    print('It is Composite Number')\n",
    "    print(list_of_divisors)\n",
    "else:\n",
    "    print('It is Prime Number')"
   ]
  },
  {
   "cell_type": "markdown",
   "id": "d83aca03",
   "metadata": {},
   "source": [
    "# 13. Write a python program to check whether a given string is palindrome or not"
   ]
  },
  {
   "cell_type": "code",
   "execution_count": 3,
   "id": "c935747f",
   "metadata": {},
   "outputs": [
    {
     "name": "stdout",
     "output_type": "stream",
     "text": [
      "This is palindrome text\n"
     ]
    }
   ],
   "source": [
    "user_input = 'ShivihS'\n",
    "# user_input = input(\"Enter text : \").lower()\n",
    "text = user_input.lower()\n",
    "if text == text[::-1]:\n",
    "    print(\"This is palindrome text\")\n",
    "else:\n",
    "    print(\"This is not palindrome text\")"
   ]
  },
  {
   "cell_type": "markdown",
   "id": "81d62f10",
   "metadata": {},
   "source": [
    "# 14. Write a Python program to get the third side of right-angled triangle from two given sides."
   ]
  },
  {
   "cell_type": "code",
   "execution_count": 4,
   "id": "29511546",
   "metadata": {},
   "outputs": [
    {
     "name": "stdout",
     "output_type": "stream",
     "text": [
      "Opposite Side is 8.0\n"
     ]
    }
   ],
   "source": [
    "def third_side(adjecent, opposite, hypotenuse):\n",
    "    if adjecent == 'x':\n",
    "        print(f\"Adjecent Side is {(((hypotenuse**2) - (opposite**2))**0.5)}\")\n",
    "    elif opposite == 'x':\n",
    "        print(f\"Opposite Side is {(((hypotenuse**2) - (adjecent**2))**0.5)}\")\n",
    "    elif hypotenuse == 'x':\n",
    "        print(f\"Hypotenuse is {(((opposite**2) + (adjecent**2))**0.5)}\")\n",
    "\n",
    "third_side(adjecent=6,hypotenuse=10,opposite='x')"
   ]
  },
  {
   "cell_type": "markdown",
   "id": "69538c26",
   "metadata": {},
   "source": [
    "# 15. Write a python program to print the frequency of each of the characters present in a given string. "
   ]
  },
  {
   "cell_type": "code",
   "execution_count": 5,
   "id": "91d5f8d7",
   "metadata": {
    "scrolled": true
   },
   "outputs": [
    {
     "name": "stdout",
     "output_type": "stream",
     "text": [
      "{'S': 2, 'h': 1, 'i': 1, 'v': 1, 'a': 1, 'm': 1}\n"
     ]
    }
   ],
   "source": [
    "a_string = \"ShivamS\"\n",
    "dict = {}\n",
    "for i in a_string:\n",
    "    dict[i] = a_string.count(i)\n",
    "print(dict)"
   ]
  }
 ],
 "metadata": {
  "kernelspec": {
   "display_name": "Python 3 (ipykernel)",
   "language": "python",
   "name": "python3"
  },
  "language_info": {
   "codemirror_mode": {
    "name": "ipython",
    "version": 3
   },
   "file_extension": ".py",
   "mimetype": "text/x-python",
   "name": "python",
   "nbconvert_exporter": "python",
   "pygments_lexer": "ipython3",
   "version": "3.9.12"
  }
 },
 "nbformat": 4,
 "nbformat_minor": 5
}
