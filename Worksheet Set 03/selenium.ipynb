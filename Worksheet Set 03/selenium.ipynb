{
 "cells": [
  {
   "cell_type": "code",
   "execution_count": 1,
   "id": "6ebf0490",
   "metadata": {},
   "outputs": [],
   "source": [
    "import selenium\n",
    "from selenium.webdriver.common.by import By\n",
    "from selenium.webdriver.support.ui import WebDriverWait\n",
    "from selenium.webdriver.support import expected_conditions as EC\n",
    "import time\n",
    "import pandas as pd"
   ]
  },
  {
   "cell_type": "code",
   "execution_count": 8,
   "id": "8730dae5",
   "metadata": {},
   "outputs": [],
   "source": [
    "from selenium.webdriver.common.keys import Keys\n",
    "from selenium.webdriver.common.by import By \n",
    "from selenium.webdriver.support.ui import WebDriverWait\n",
    "from selenium.webdriver.support import expected_conditions as EC"
   ]
  },
  {
   "cell_type": "code",
   "execution_count": 75,
   "id": "eaf2d001",
   "metadata": {
    "scrolled": true
   },
   "outputs": [
    {
     "name": "stderr",
     "output_type": "stream",
     "text": [
      "C:\\Users\\shiva\\AppData\\Local\\Temp\\ipykernel_10724\\3070958395.py:1: DeprecationWarning: executable_path has been deprecated, please pass in a Service object\n",
      "  driver = selenium.webdriver.Chrome(\"C:/chrome_driver/chromedriver.exe\")\n"
     ]
    }
   ],
   "source": [
    "driver = selenium.webdriver.Chrome(\"C:/chrome_driver/chromedriver.exe\")\n",
    "driver.get('https://www.flipkart.com/')\n",
    "\n",
    "\n",
    "button1 = WebDriverWait(driver, 10).until(EC.presence_of_element_located((By.XPATH, '//button[@class=\"_2KpZ6l _2doB4z\"]')))\n",
    "button1.click()"
   ]
  },
  {
   "cell_type": "code",
   "execution_count": 76,
   "id": "a1217c86",
   "metadata": {},
   "outputs": [],
   "source": [
    "search_bar = WebDriverWait(driver, 10).until(EC.presence_of_element_located((By.CLASS_NAME, '_3704LK')))\n",
    "search_bar.send_keys('sunglasses')\n",
    "search_bar.send_keys(Keys.RETURN)"
   ]
  },
  {
   "cell_type": "code",
   "execution_count": 77,
   "id": "ab723994",
   "metadata": {},
   "outputs": [],
   "source": [
    "brand_names = []\n",
    "goggle_names = []\n",
    "goggle_price = []"
   ]
  },
  {
   "cell_type": "code",
   "execution_count": 78,
   "id": "6c9809c6",
   "metadata": {},
   "outputs": [],
   "source": [
    "brand_names_element = driver.find_elements(By.XPATH, '//div[@class=\"_2WkVRV\"]')\n",
    "for i in brand_names_element[0:100]:\n",
    "    text = i.text\n",
    "    brand_names.append(text)"
   ]
  },
  {
   "cell_type": "code",
   "execution_count": 79,
   "id": "4d74e93d",
   "metadata": {},
   "outputs": [],
   "source": [
    "goggle_names_element = driver.find_elements(By.XPATH, '//a[@class=\"IRpwTa\"]')\n",
    "for i in goggle_names_element[0:100]:\n",
    "    text = i.text\n",
    "    goggle_names.append(text)"
   ]
  },
  {
   "cell_type": "code",
   "execution_count": 80,
   "id": "0e047580",
   "metadata": {},
   "outputs": [
    {
     "data": {
      "text/plain": [
       "[]"
      ]
     },
     "execution_count": 80,
     "metadata": {},
     "output_type": "execute_result"
    }
   ],
   "source": [
    "goggle_names"
   ]
  },
  {
   "cell_type": "code",
   "execution_count": 81,
   "id": "0eb01fe8",
   "metadata": {},
   "outputs": [],
   "source": [
    "price_element = driver.find_elements(By.XPATH, '//div[@class=\"_30jeq3\"]')\n",
    "for i in price_element[0:100]:\n",
    "    text = i.text\n",
    "    goggle_price.append(text)"
   ]
  },
  {
   "cell_type": "code",
   "execution_count": 82,
   "id": "e8f16878",
   "metadata": {},
   "outputs": [],
   "source": [
    "df = pd.DataFrame()\n",
    "df['Brand'] = brand_names\n",
    "df['Description'] = goggle_names\n",
    "df['Price'] = goggle_price"
   ]
  },
  {
   "cell_type": "code",
   "execution_count": 83,
   "id": "b592a89c",
   "metadata": {},
   "outputs": [
    {
     "data": {
      "text/html": [
       "<div>\n",
       "<style scoped>\n",
       "    .dataframe tbody tr th:only-of-type {\n",
       "        vertical-align: middle;\n",
       "    }\n",
       "\n",
       "    .dataframe tbody tr th {\n",
       "        vertical-align: top;\n",
       "    }\n",
       "\n",
       "    .dataframe thead th {\n",
       "        text-align: right;\n",
       "    }\n",
       "</style>\n",
       "<table border=\"1\" class=\"dataframe\">\n",
       "  <thead>\n",
       "    <tr style=\"text-align: right;\">\n",
       "      <th></th>\n",
       "      <th>Brand</th>\n",
       "      <th>Description</th>\n",
       "      <th>Price</th>\n",
       "    </tr>\n",
       "  </thead>\n",
       "  <tbody>\n",
       "  </tbody>\n",
       "</table>\n",
       "</div>"
      ],
      "text/plain": [
       "Empty DataFrame\n",
       "Columns: [Brand, Description, Price]\n",
       "Index: []"
      ]
     },
     "execution_count": 83,
     "metadata": {},
     "output_type": "execute_result"
    }
   ],
   "source": [
    "df"
   ]
  },
  {
   "cell_type": "markdown",
   "id": "eed1fa78",
   "metadata": {},
   "source": [
    "# Q10 - Answer"
   ]
  },
  {
   "cell_type": "markdown",
   "id": "0f7d07b0",
   "metadata": {},
   "source": [
    "# Q10: Write a python program to scrape the salary data for Data Scientist designation. You have to scrape Company name, Number of salaries, Average salary, Minsalary, Max Salary."
   ]
  },
  {
   "cell_type": "code",
   "execution_count": 16,
   "id": "25c9dda8",
   "metadata": {},
   "outputs": [],
   "source": [
    "from selenium import webdriver\n",
    "from selenium.webdriver.common.by import By\n",
    "from selenium.webdriver.common.action_chains import ActionChains"
   ]
  },
  {
   "cell_type": "code",
   "execution_count": 19,
   "id": "b04dfc61",
   "metadata": {
    "scrolled": true
   },
   "outputs": [
    {
     "name": "stderr",
     "output_type": "stream",
     "text": [
      "C:\\Users\\shiva\\AppData\\Local\\Temp\\ipykernel_25452\\3776127475.py:1: DeprecationWarning: executable_path has been deprecated, please pass in a Service object\n",
      "  driver = webdriver.Chrome('C:/chrome_driver/chromedriver.exe')\n"
     ]
    }
   ],
   "source": [
    "driver = webdriver.Chrome('C:/chrome_driver/chromedriver.exe')\n",
    "driver.get('https://www.ambitionbox.com/')\n",
    "salary = driver.find_element(By.XPATH, '//*[@id=\"ambitionbox-header\"]/nav/ul/li[3]/span')\n",
    "salary.click()\n",
    "driver.implicitly_wait(5)\n",
    "second_click = driver.find_element(By.LINK_TEXT, 'Browse salaries')\n",
    "second_click.click()"
   ]
  },
  {
   "cell_type": "code",
   "execution_count": 25,
   "id": "301078fa",
   "metadata": {},
   "outputs": [],
   "source": [
    "search_text = driver.find_element(By.XPATH, '//input[@id=\"jobProfileSearchbox\"]')\n",
    "search_text.send_keys('Data Scientist')\n",
    "driver.implicitly_wait(5)\n",
    "search_text_click = driver.find_element(By.XPATH, '//*[@id=\"salaries\"]/main/section[1]/div[2]/div[1]/span/div/div/div[1]/div/div/p')\n",
    "search_text_click.click()"
   ]
  },
  {
   "cell_type": "code",
   "execution_count": 62,
   "id": "762b4ed0",
   "metadata": {},
   "outputs": [],
   "source": [
    "elements = driver.find_elements(By.XPATH, '//div[@class=\"result-row\"]')"
   ]
  },
  {
   "cell_type": "code",
   "execution_count": 70,
   "id": "8f8b8555",
   "metadata": {},
   "outputs": [],
   "source": [
    "companies = []\n",
    "for i in elements:\n",
    "    temp = i.find_elements(By.TAG_NAME, 'a')\n",
    "    for i in temp:\n",
    "        companies.append(i.text[:-22])"
   ]
  },
  {
   "cell_type": "code",
   "execution_count": 71,
   "id": "006a0a4b",
   "metadata": {},
   "outputs": [
    {
     "data": {
      "text/plain": [
       "['Walmart',\n",
       " 'Ab Inbev',\n",
       " 'Optum',\n",
       " 'ZS',\n",
       " 'Fractal Analytics',\n",
       " 'Sigmoid Analytics',\n",
       " 'Tiger Analytics',\n",
       " 'Legato Health Technologies',\n",
       " 'HSBC',\n",
       " 'Tredence']"
      ]
     },
     "execution_count": 71,
     "metadata": {},
     "output_type": "execute_result"
    }
   ],
   "source": [
    "companies"
   ]
  },
  {
   "cell_type": "code",
   "execution_count": 72,
   "id": "6d30617b",
   "metadata": {},
   "outputs": [
    {
     "name": "stdout",
     "output_type": "stream",
     "text": [
      "3-4 yrs experience (based on 24 salaries)\n",
      "2-4 yrs experience (based on 59 salaries)\n",
      "2-4 yrs experience (based on 49 salaries)\n",
      "1-2 yrs experience (based on 35 salaries)\n",
      "2-4 yrs experience (based on 118 salaries)\n",
      "1 yr experience (based on 10 salaries)\n",
      "2-4 yrs experience (based on 70 salaries)\n",
      "4 yrs experience (based on 11 salaries)\n",
      "4 yrs experience (based on 10 salaries)\n",
      "3 yrs experience (based on 14 salaries)\n"
     ]
    }
   ],
   "source": [
    "experiance = []\n",
    "totaL_salary_record = []\n",
    "for i in elements:\n",
    "    temp = i.find_elements(By.CLASS_NAME, 'sbold-list-header')\n",
    "    for i in temp:\n",
    "        experiance.append(i.text)"
   ]
  },
  {
   "cell_type": "code",
   "execution_count": null,
   "id": "4cac7d2a",
   "metadata": {},
   "outputs": [],
   "source": []
  }
 ],
 "metadata": {
  "kernelspec": {
   "display_name": "Python 3 (ipykernel)",
   "language": "python",
   "name": "python3"
  },
  "language_info": {
   "codemirror_mode": {
    "name": "ipython",
    "version": 3
   },
   "file_extension": ".py",
   "mimetype": "text/x-python",
   "name": "python",
   "nbconvert_exporter": "python",
   "pygments_lexer": "ipython3",
   "version": "3.9.12"
  }
 },
 "nbformat": 4,
 "nbformat_minor": 5
}
